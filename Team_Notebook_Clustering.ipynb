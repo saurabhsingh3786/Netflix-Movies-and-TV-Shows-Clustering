{
  "nbformat": 4,
  "nbformat_minor": 0,
  "metadata": {
    "colab": {
      "private_outputs": true,
      "provenance": [],
      "collapsed_sections": [
        "vncDsAP0Gaoa",
        "FJNUwmbgGyua",
        "w6K7xa23Elo4",
        "yQaldy8SH6Dl",
        "mDgbUHAGgjLW",
        "HhfV-JJviCcP",
        "ucZTuZL5gfRw",
        "KRK-vi-ngfR0",
        "-j64p7s1gfR3",
        "PEb-ptwXgfR5",
        "pd8_vW_kiMzr",
        "KZtwx7ewiMzv",
        "H0kj-8xxnORC",
        "ZPH59-tV0eX1",
        "x4SjdQ2k0eX5",
        "rJ66v6nK0eX7",
        "dauF4eBmngu3",
        "bKJF3rekwFvQ",
        "StwzN4twGKgQ",
        "DgQ0Zrp113b9",
        "NZPKopeX6sbn",
        "2-VIzp9o_PpW",
        "fP-WXlpr4Upg",
        "eNUiNSFnKxzl",
        "bIz0rRQaZAK5",
        "tYV6EPSOpwkH",
        "58JqKc2LpwkI",
        "p5Q_WGRRpwkJ",
        "AgzjWlAgpwkM",
        "3A8ciEmWpwkO",
        "sOWKfSR6pwkP",
        "6V69H10_pwkQ",
        "OF-lRoK-pwkR",
        "NtKCX7Z5pwkS",
        "_x1b1mOipwkT",
        "lPGIjtmWpwkU",
        "jMepXDbnpwkV",
        "exTux-KypwkW",
        "ApYWPxMVpwkX",
        "1pe5iKW9pwkY",
        "_J0WdHr7pwkc",
        "--d87OMWpwke",
        "8de76TRcpwke",
        "wtpKio9Bpwkf",
        "tcrxM7bOpwkg",
        "OBg2trjapwki",
        "pzIh4x5fpwkj",
        "tJoeRRfspwkk",
        "cClm0Oo8pwkl",
        "jI136Jxtpwkm",
        "oNjOlXkbpwkn",
        "YOEy7sQlpwko",
        "e3DQR-Xopwkp",
        "4U-Q3ow6orAk",
        "fTCbHZhkpwkq",
        "6ky6u5Grpwkr",
        "LwdgEF-gpwks",
        "ktzYtpybpwks",
        "9sab5Xagpwkt",
        "U_2kx43Fpwku",
        "3s7IlSrupwkv",
        "Uos9FQ7xpwkw",
        "t796-cQZpwkx",
        "cSp8in6Ipwky",
        "_wY8FB5Jpwkz",
        "un4I3e3ppwk0",
        "fSJBVj5hpwk1",
        "o_F_PF3apwk2",
        "ijG8UtDepwk3",
        "eP9rm4chpwk4",
        "WrYwbYLUpwk6",
        "egEE2NqZpwk8",
        "GN_TxMXUpwk9",
        "5G8fiN_gpwk_",
        "7cmfUiq8pwlA",
        "UDF7c5hppwlB",
        "iXIxICNspwlB",
        "x1QPW6P8pwlC",
        "5oYqNdc7YWEO",
        "zsaYjocwYWEz",
        "ZqkjY1W2YWE1",
        "uM13GcHuYWE3",
        "YJ55k-q6phqO",
        "gCFgpxoyphqP",
        "OVtJsKN_phqQ",
        "lssrdh5qphqQ",
        "TxsSpU_7an7u",
        "kv9k2ji9AShd",
        "2O26kO1_AShe",
        "f5bFc0ENKeeT",
        "qTHIKkuKKeeU",
        "GHItZHK7KeeW",
        "NdVYPvTQKeeX",
        "4loLSaDOKeeY",
        "I4AF31oVKeeb",
        "ukkWfWfwKeed",
        "lKF2XE2KKeee",
        "bDe47AONKeef",
        "1Da9X6LdKeeg",
        "kzd5BzYZKeei",
        "4Hc2hGPjKeek",
        "jfdt_n2mKeem",
        "p5fnH_xqKeeq",
        "-tgjGuwKsHWV",
        "IGu1OQ1ksHWX",
        "jo_YlpSNsHWZ",
        "DEQRWBcksHWc",
        "6O8G1vf1Jxtn",
        "blP4-cfDJxto",
        "MmQkyxn7Jxto",
        "VEWBfuIjJxto",
        "WMYvHJcLJxtp",
        "CfXQMKhpJxtp",
        "V31je2Z1Jxtq",
        "g4PtWlC0Jxtq",
        "uBRvDmafJxtr",
        "OTcW5-mTJxtr",
        "7DbMD-WFJxts",
        "Q3wnMzigJxts",
        "C7P7h4ibJxts",
        "ScVy0rOOJxts",
        "-aBELOj8Jxtt",
        "_juKjgh6X0ze",
        "RvLo6ZrQX0zg",
        "MHPOQ0msX0zh",
        "H1Ptn3NbX0zk",
        "iBCn-7jgX0zl",
        "xw9CLkhbewuh",
        "QFJhYHeWewuo",
        "DmCnVckqYDd4",
        "YjMsMDt7YhmK"
      ],
      "include_colab_link": true
    },
    "kernelspec": {
      "name": "python3",
      "display_name": "Python 3"
    },
    "language_info": {
      "name": "python"
    }
  },
  "cells": [
    {
      "cell_type": "markdown",
      "metadata": {
        "id": "view-in-github",
        "colab_type": "text"
      },
      "source": [
        "<a href=\"https://colab.research.google.com/github/saurabhsingh3786/Netflix-Movies-and-TV-Shows-Clustering/blob/main/Team_Notebook_Clustering.ipynb\" target=\"_parent\"><img src=\"https://colab.research.google.com/assets/colab-badge.svg\" alt=\"Open In Colab\"/></a>"
      ]
    },
    {
      "cell_type": "markdown",
      "source": [
        "# <font size=\"+4\" color=blue><center> Netflix Movies and TV Shows Clustering</center>\n",
        "\n"
      ],
      "metadata": {
        "id": "vncDsAP0Gaoa"
      }
    },
    {
      "cell_type": "markdown",
      "source": [
        "##### **Project Type**    - Unsupervised\n",
        "##### **Contribution**    - Team\n",
        "##### **Team Member 1 -**   Bharathwaj Bejjarapu\n",
        "##### **Team Member 2 -**   Shriya Chouhan\n",
        "##### **Team Member 3 -**   Saurabh Singh\n"
      ],
      "metadata": {
        "id": "beRrZCGUAJYm"
      }
    },
    {
      "cell_type": "markdown",
      "source": [
        "# **Project Summary -**"
      ],
      "metadata": {
        "id": "FJNUwmbgGyua"
      }
    },
    {
      "cell_type": "markdown",
      "source": [
        "Introduction:\n",
        "\n",
        "With more than 83 million subscribers and presence in more than 190 countries, Netflix is the most popular Internet television network in the world. Its users watch more than 125 million hours of TV and movie content daily, including original series, documentaries, and feature films. On almost any screen that is linked to the Internet, members can watch as much as they want, whenever and wherever. Without interruptions or obligations, members can play, pause, and resume watching at any time."
      ],
      "metadata": {
        "id": "F6v_1wHtG2nS"
      }
    },
    {
      "cell_type": "markdown",
      "source": [
        "This dataset consists of tv shows and movies available on Netflix as of 2019. The dataset is collected from Flixable which is a third-party Netflix search engine.\n",
        "\n",
        "In 2018, they released an interesting report which shows that the number of TV shows on Netflix has nearly tripled since 2010. The streaming service’s number of movies has decreased by more than 2,000 titles since 2010, while its number of TV shows has nearly tripled. It will be interesting to explore what all other insights can be obtained from the same dataset.\n",
        "\n",
        "In this project, we worked on a text clustering problem where we had to classify/group the Netflix movie/shows into certain clusters such that the shows within a cluster are similar to each other and the shows in different clusters are dissimilar to each other."
      ],
      "metadata": {
        "id": "SzPOjIImdMde"
      }
    },
    {
      "cell_type": "markdown",
      "metadata": {
        "id": "tLx5cJO8hzb1"
      },
      "source": [
        "<b>**In this  project, We are required to do -** </b>\n",
        "1. Exploratory Data Analysis\n",
        "2. Understanding what type content is available in different countries\n",
        "3. Has Netflix increasingly focused on TV as compared to movies in recent years?\n",
        "4. Clustering similar content by matching text-based features\n",
        "\n"
      ]
    },
    {
      "cell_type": "markdown",
      "source": [
        "* There were approximately 7787 records and 12 attributes in the dataset.\n",
        "\n",
        "* We started by working on the missing values in the dataset and conducting exploratory data analysis (EDA).\n",
        "\n",
        "* Using the following attributes to create a cluster: cast, country, genre, director, rating, and description The TFIDF vectorizer was used to tokenize, preprocess, and vectorize the values in these attributes.\n",
        "\n",
        "* The problem of dimensionality was dealt with through the use of Principal Component Analysis (PCA).\n",
        "\n",
        "* Using a variety of methods, including the elbow method, silhouette score, dendrogram, and others, we constructed two distinct types of clusters with the K-Means Clustering and Agglomerative Hierarchical clustering algorithms, respectively, and determined the optimal number of clusters.\n",
        "\n",
        "* The similarity matrix generated by applying cosine similarity was used to construct a content-based recommender system. The user will receive ten recommendations from this recommender system based on the type of show they watched."
      ],
      "metadata": {
        "id": "ee6xumnDnCQ7"
      }
    },
    {
      "cell_type": "markdown",
      "source": [
        "**This comprehensive analysis and recommendation system are expected to enhance user satisfaction, leading to improved retention rates for Netflix.**"
      ],
      "metadata": {
        "id": "TwPbho1Jegif"
      }
    },
    {
      "cell_type": "markdown",
      "source": [
        "# **GitHub Link -**"
      ],
      "metadata": {
        "id": "w6K7xa23Elo4"
      }
    },
    {
      "cell_type": "markdown",
      "source": [
        "https://github.combharath977Netflix_Content_Analysis_and_Clustering_for_Insights\n",
        "\n",
        "https://github.com/ShriyaChouhan/Netflix_Movies_and_TV_Shows_Clustering\n",
        "\n",
        "https://github.com/saurabhsingh3786/Netflix-Movies-and-TV-Shows-Clustering"
      ],
      "metadata": {
        "id": "h1o69JH3Eqqn"
      }
    },
    {
      "cell_type": "markdown",
      "source": [
        "# **Problem Statement**\n"
      ],
      "metadata": {
        "id": "yQaldy8SH6Dl"
      }
    },
    {
      "cell_type": "markdown",
      "source": [
        "* Netflix is the world's largest online streaming service provider, with over 220 million subscribers as of 2022-Q2. It is crucial that they effectively cluster the shows that are hosted on their platform in order to enhance the user experience, thereby preventing subscriber churn.\n",
        "* We will be able to understand the shows that are similar to and different from one another by creating clusters, which may be leveraged to offer the consumers personalized show suggestions depending on their preferences.\n",
        "* The goal of this project is to classify/group the Netflix shows into certain clusters such that the shows within a cluster are similar to each other and the shows in different clusters are dissimilar to each other."
      ],
      "metadata": {
        "id": "DpeJGUA3kjGy"
      }
    },
    {
      "cell_type": "markdown",
      "source": [
        "# **General Guidelines** : -  "
      ],
      "metadata": {
        "id": "mDgbUHAGgjLW"
      }
    },
    {
      "cell_type": "markdown",
      "source": [
        "1.   Well-structured, formatted, and commented code is required.\n",
        "2.   Exception Handling, Production Grade Code & Deployment Ready Code will be a plus. Those students will be awarded some additional credits.\n",
        "     \n",
        "     The additional credits will have advantages over other students during Star Student selection.\n",
        "       \n",
        "             [ Note: - Deployment Ready Code is defined as, the whole .ipynb notebook should be executable in one go\n",
        "                       without a single error logged. ]\n",
        "\n",
        "3.   Each and every logic should have proper comments.\n",
        "4. You may add as many number of charts you want. Make Sure for each and every chart the following format should be answered.\n",
        "        \n",
        "\n",
        "```\n",
        "# Chart visualization code\n",
        "```\n",
        "            \n",
        "\n",
        "*   Why did you pick the specific chart?\n",
        "*   What is/are the insight(s) found from the chart?\n",
        "* Will the gained insights help creating a positive business impact?\n",
        "Are there any insights that lead to negative growth? Justify with specific reason.\n",
        "\n",
        "5. You have to create at least 15 logical & meaningful charts having important insights.\n",
        "\n",
        "\n",
        "[ Hints : - Do the Vizualization in  a structured way while following \"UBM\" Rule.\n",
        "\n",
        "U - Univariate Analysis,\n",
        "\n",
        "B - Bivariate Analysis (Numerical - Categorical, Numerical - Numerical, Categorical - Categorical)\n",
        "\n",
        "M - Multivariate Analysis\n",
        " ]\n",
        "\n",
        "\n",
        "\n",
        "\n",
        "\n",
        "6. You may add more ml algorithms for model creation. Make sure for each and every algorithm, the following format should be answered.\n",
        "\n",
        "\n",
        "*   Explain the ML Model used and it's performance using Evaluation metric Score Chart.\n",
        "\n",
        "\n",
        "*   Cross- Validation & Hyperparameter Tuning\n",
        "\n",
        "*   Have you seen any improvement? Note down the improvement with updates Evaluation metric Score Chart.\n",
        "\n",
        "*   Explain each evaluation metric's indication towards business and the business impact pf the ML model used.\n",
        "\n",
        "\n",
        "\n",
        "\n",
        "\n",
        "\n",
        "\n",
        "\n",
        "\n",
        "\n",
        "\n",
        "\n",
        "\n",
        "\n",
        "\n",
        "\n",
        "\n",
        "\n"
      ],
      "metadata": {
        "id": "ZrxVaUj-hHfC"
      }
    },
    {
      "cell_type": "markdown",
      "source": [
        "# ***Let's Begin !***"
      ],
      "metadata": {
        "id": "O_i_v8NEhb9l"
      }
    },
    {
      "cell_type": "markdown",
      "source": [
        "## ***1. Know Your Data***"
      ],
      "metadata": {
        "id": "HhfV-JJviCcP"
      }
    },
    {
      "cell_type": "markdown",
      "source": [
        "### Import Libraries"
      ],
      "metadata": {
        "id": "ucZTuZL5gfRw"
      }
    },
    {
      "cell_type": "code",
      "source": [
        "# Import Libraries and modules\n",
        "\n",
        "# libraries that are used for analysis and visualization\n",
        "import numpy as np\n",
        "import pandas as pd\n",
        "import seaborn as sns\n",
        "import matplotlib.pyplot as plt\n",
        "import plotly.graph_objects as go\n",
        "import plotly.express as px\n",
        "%matplotlib inline\n",
        "\n",
        "# Visualizing the missing values\n",
        "import missingno as msno\n",
        "\n",
        "# libraries used to process textual data\n",
        "import string\n",
        "string.punctuation\n",
        "import nltk\n",
        "nltk.download('punkt')\n",
        "import re\n",
        "from nltk.corpus import stopwords\n",
        "from nltk.stem import WordNetLemmatizer\n",
        "from nltk.tokenize import word_tokenize\n",
        "from nltk.tokenize import TweetTokenizer\n",
        "from sklearn.feature_extraction.text import CountVectorizer\n",
        "from sklearn.feature_extraction.text import TfidfVectorizer\n",
        "from sklearn.decomposition import PCA\n",
        "from sklearn.preprocessing import StandardScaler\n",
        "\n",
        "# libraries used to implement clusters\n",
        "from sklearn.cluster import KMeans\n",
        "from sklearn.metrics import silhouette_score\n",
        "from sklearn.cluster import AgglomerativeClustering\n",
        "import scipy.cluster.hierarchy as shc\n",
        "\n",
        "# libraries that are used to construct a recommendation system\n",
        "from sklearn.feature_extraction.text import TfidfVectorizer\n",
        "from sklearn.metrics.pairwise import cosine_similarity\n",
        "\n",
        "# Library of warnings would assist in ignoring warnings issued\n",
        "import warnings\n",
        "warnings.filterwarnings('ignore')\n",
        "import warnings;warnings.simplefilter('ignore')"
      ],
      "metadata": {
        "id": "14OV9i7BgfRy"
      },
      "execution_count": null,
      "outputs": []
    },
    {
      "cell_type": "markdown",
      "source": [
        "### Dataset Loading"
      ],
      "metadata": {
        "id": "KRK-vi-ngfR0"
      }
    },
    {
      "cell_type": "code",
      "source": [
        "# Load Dataset\n",
        "from google.colab import drive\n",
        "drive.mount('/content/drive')"
      ],
      "metadata": {
        "id": "LqCQ1_hKgfR1"
      },
      "execution_count": null,
      "outputs": []
    },
    {
      "cell_type": "code",
      "source": [
        "netflix = pd.read_csv('/content/drive/MyDrive/AlmaBetter/Capstone Projects/Netflix Movies and TV Shows Clustering/NETFLIX MOVIES AND TV SHOWS CLUSTERING.csv')\n",
        "netflix_df = netflix.copy()\n"
      ],
      "metadata": {
        "id": "wu5sTXUocE8y"
      },
      "execution_count": null,
      "outputs": []
    },
    {
      "cell_type": "markdown",
      "source": [
        "### Dataset First View"
      ],
      "metadata": {
        "id": "-j64p7s1gfR3"
      }
    },
    {
      "cell_type": "code",
      "source": [
        "# Dataset First Look\n",
        "# first five rows\n",
        "netflix_df.head()"
      ],
      "metadata": {
        "id": "5qYZ2sI0gfR3"
      },
      "execution_count": null,
      "outputs": []
    },
    {
      "cell_type": "code",
      "source": [
        "#Last five rows\n",
        "netflix_df.tail()"
      ],
      "metadata": {
        "id": "M4WwE9mac5R3"
      },
      "execution_count": null,
      "outputs": []
    },
    {
      "cell_type": "markdown",
      "source": [
        "### Dataset Rows & Columns count"
      ],
      "metadata": {
        "id": "PEb-ptwXgfR5"
      }
    },
    {
      "cell_type": "code",
      "source": [
        "# Dataset Rows & Columns count\n",
        "print(f'number of rows : {netflix_df.shape[0]}  \\nnumber of columns : {netflix_df.shape[1]}')"
      ],
      "metadata": {
        "id": "rbD5iQqqgfR7"
      },
      "execution_count": null,
      "outputs": []
    },
    {
      "cell_type": "markdown",
      "source": [
        "### Dataset Information"
      ],
      "metadata": {
        "id": "xq1UbcuMiMzn"
      }
    },
    {
      "cell_type": "code",
      "source": [
        "# Dataset Info\n",
        "netflix_df.info()"
      ],
      "metadata": {
        "id": "lmzZNcvBiMzq"
      },
      "execution_count": null,
      "outputs": []
    },
    {
      "cell_type": "markdown",
      "source": [
        "#### Duplicate Values"
      ],
      "metadata": {
        "id": "pd8_vW_kiMzr"
      }
    },
    {
      "cell_type": "markdown",
      "source": [
        "**`How important is it to get rid of duplicate records in my data?`**\n",
        "\n",
        "The mere presence of repeated data in the dataset is referred to as \"duplication.\" This could be caused by incorrect data entry or procedures for collecting data. We can save time and money by not sending the same data to the machine learning model multiple times by removing duplicate data from our set."
      ],
      "metadata": {
        "id": "neTp3cFfBgv-"
      }
    },
    {
      "cell_type": "code",
      "source": [
        "# Dataset Duplicate Value Count\n",
        "duplicate_value = len(netflix_df[netflix_df.duplicated()])\n",
        "print(\"The number of duplicate values in the data set is = \",duplicate_value)"
      ],
      "metadata": {
        "id": "vvHhDQeOiMzt"
      },
      "execution_count": null,
      "outputs": []
    },
    {
      "cell_type": "markdown",
      "source": [
        "We found that there were no duplicate entries in the above data."
      ],
      "metadata": {
        "id": "t4ji8DmACDsX"
      }
    },
    {
      "cell_type": "markdown",
      "source": [
        "#### Missing Values/Null Values"
      ],
      "metadata": {
        "id": "KZtwx7ewiMzv"
      }
    },
    {
      "cell_type": "markdown",
      "source": [
        "**Why dealing with missing values is necessary?**\n",
        "\n",
        "There are frequently a lot of missing values in the actual data. Corrupted or missing data may result in missing values. Since many machine-learning algorithms do not support missing values, missing data must be handled during the dataset's pre-processing. Therefore, we begin by looking for values that are missing."
      ],
      "metadata": {
        "id": "EY48eYX8CR8h"
      }
    },
    {
      "cell_type": "code",
      "source": [
        "# Missing Values/Null Values Count\n",
        "print(\"-\"*50)\n",
        "print(\"Null value count in each of the Column: \")\n",
        "print(\"-\"*50)\n",
        "print(netflix_df.isna().sum())\n",
        "print(\"-\"*50)\n",
        "\n",
        "# Percentage of null values in each category\n",
        "print(\"Percentage of null values in each Column: \")\n",
        "print(\"-\"*50)\n",
        "null_count_by_column = netflix_df.isnull().sum()/len(netflix_df)\n",
        "print(f\"{null_count_by_column*100}%\")\n",
        "print(\"-\"*50)"
      ],
      "metadata": {
        "id": "nSBbpTy0B99Y"
      },
      "execution_count": null,
      "outputs": []
    },
    {
      "cell_type": "code",
      "source": [
        "# Visualizing the missing values\n",
        "import missingno as msno\n",
        "msno.bar(netflix_df, color='green',sort='ascending', figsize=(10,3), fontsize=15)"
      ],
      "metadata": {
        "id": "e1o4GqYtCyIU"
      },
      "execution_count": null,
      "outputs": []
    },
    {
      "cell_type": "code",
      "source": [
        "# Visualizing the missing values\n",
        "plt.figure(figsize=(15,8))\n",
        "plots= sns.barplot(x=netflix_df.columns,y=netflix_df.isna().sum())\n",
        "plt.grid(linestyle='--', linewidth=0.3)\n",
        "\n",
        "for bar in plots.patches:\n",
        "      plots.annotate(bar.get_height(),\n",
        "                     (bar.get_x() + bar.get_width() / 2,\n",
        "                      bar.get_height()), ha='center', va='center',\n",
        "                     size=12, xytext=(0, 8),\n",
        "                     textcoords='offset points')\n",
        "plt.show()"
      ],
      "metadata": {
        "id": "jVQdlIgljzk7"
      },
      "execution_count": null,
      "outputs": []
    },
    {
      "cell_type": "markdown",
      "source": [
        "### What did you know about your dataset?"
      ],
      "metadata": {
        "id": "H0kj-8xxnORC"
      }
    },
    {
      "cell_type": "markdown",
      "source": [
        "The dataset \"Netflix Movies and TV Shows Clustering\" comprises 12 columns, with only one column having an integer data type. It does not contain any duplicate values, but it does have null values in five columns: director, cast, country, date_added, and rating.\n",
        "\n",
        "This dataset provides a valuable resource for exploring trends in the range of movies and TV shows available on Netflix. Additionally, it can be utilized for developing clustering models to categorize similar titles together based on shared attributes such as genre, country of origin, and rating."
      ],
      "metadata": {
        "id": "gfoNAAC-nUe_"
      }
    },
    {
      "cell_type": "markdown",
      "source": [
        "## ***2. Understanding Your Variables***"
      ],
      "metadata": {
        "id": "ZPH59-tV0eX1"
      }
    },
    {
      "cell_type": "code",
      "source": [
        "# Dataset Columns\n",
        "print(f\"Available columns:\\n{netflix_df.columns.to_list()}\")"
      ],
      "metadata": {
        "id": "_uwTJktu0eX3"
      },
      "execution_count": null,
      "outputs": []
    },
    {
      "cell_type": "code",
      "source": [
        "# Dataset Describe\n",
        "netflix_df.describe(include='all').T"
      ],
      "metadata": {
        "id": "E_Ix4LEG0eX4"
      },
      "execution_count": null,
      "outputs": []
    },
    {
      "cell_type": "markdown",
      "source": [
        "### Variables Description"
      ],
      "metadata": {
        "id": "x4SjdQ2k0eX5"
      }
    },
    {
      "cell_type": "markdown",
      "metadata": {
        "id": "bs_CBCImOSJx"
      },
      "source": [
        "The variable description of the Netflix Movies and TV Shows Clustering Dataset is as follows:\n",
        "\n",
        "1. **show_id**: Unique identifier for each movie/show.\n",
        "\n",
        "2. **type**: Indicates whether the entry is a movie or a TV show.\n",
        "3. **title**: Name of the movie or TV show.\n",
        "4. **director**: Name of the director(s) of the movie or TV show.\n",
        "5. **cast**: Names of the actors and actresses featured in the movie or TV show.\n",
        "6. **country**: Country or countries where the movie or TV show was produced.\n",
        "7. **date_added**: Date when the movie or TV show was added to Netflix.\n",
        "8. **release_year**: Year when the movie or TV show was released.\n",
        "9. **rating**: TV rating or movie rating of the movie or TV show.\n",
        "10. **duration**: Length of the movie or TV show in minutes or seasons.\n",
        "11. **listed_in**: Categories or genres of the movie or TV show.\n",
        "12. **description**: Brief synopsis or summary of the movie or TV show."
      ]
    },
    {
      "cell_type": "markdown",
      "source": [
        "### Check Unique Values for each variable."
      ],
      "metadata": {
        "id": "rJ66v6nK0eX7"
      }
    },
    {
      "cell_type": "code",
      "source": [
        "# Check Unique Values for each variable.\n",
        "for i in netflix_df.columns.tolist():\n",
        "  print(\"No. of unique values in\",i,\"is\",netflix_df[i].nunique())"
      ],
      "metadata": {
        "id": "DdZLQHI00eX8"
      },
      "execution_count": null,
      "outputs": []
    },
    {
      "cell_type": "markdown",
      "source": [
        "### Observations:\n",
        "\n",
        "* We are focusing on several key columns of our dataset, including 'type', 'title', 'director', 'cast', 'country', 'rating', 'listed_in', and 'description', as they contain a wealth of information.\n",
        "* By utilizing these features, we plan to create a cluster column and implement both K-means and Hierarchical clustering algorithms.\n",
        "* Additionally, we will be developing a content-based recommendation system that utilizes the information from these columns to provide personalized suggestions to users. This approach will allow us to gain valuable insights and group similar data points together, as well as provide personalized recommendations based on user preferences and viewing history."
      ],
      "metadata": {
        "id": "1K8X0PxQigIR"
      }
    },
    {
      "cell_type": "markdown",
      "source": [
        "## 3. ***Data Wrangling***"
      ],
      "metadata": {
        "id": "dauF4eBmngu3"
      }
    },
    {
      "cell_type": "markdown",
      "source": [
        "### Data Wrangling Code"
      ],
      "metadata": {
        "id": "bKJF3rekwFvQ"
      }
    },
    {
      "cell_type": "markdown",
      "metadata": {
        "id": "StwzN4twGKgQ"
      },
      "source": [
        "####  Handling Null values from each feature"
      ]
    },
    {
      "cell_type": "code",
      "execution_count": null,
      "metadata": {
        "id": "pKwJ-kIgyJD7"
      },
      "outputs": [],
      "source": [
        "# Missing Values/Null Values Count\n",
        "print(\"-\"*50)\n",
        "print(\"Null value count in each of the column: \")\n",
        "print(\"-\"*50)\n",
        "print(netflix_df.isna().sum())\n",
        "print(\"-\"*50)\n",
        "\n",
        "# Let's find out the percentage of null values in each category in order to deal with it.\n",
        "print(\"Percentage of null values in each variable: \")\n",
        "print(\"-\"*50)\n",
        "null_count_by_column = netflix_df.isnull().sum()/len(netflix_df)\n",
        "print(f\"{null_count_by_column*100}%\")\n",
        "print(\"-\"*50)"
      ]
    },
    {
      "cell_type": "code",
      "execution_count": null,
      "metadata": {
        "id": "THHthSbJemzj"
      },
      "outputs": [],
      "source": [
        "netflix_df[\"date_added\"].value_counts()"
      ]
    },
    {
      "cell_type": "code",
      "execution_count": null,
      "metadata": {
        "id": "R1z8r2zYeyId"
      },
      "outputs": [],
      "source": [
        "netflix_df['rating'].value_counts()"
      ]
    },
    {
      "cell_type": "code",
      "execution_count": null,
      "metadata": {
        "id": "JNWlslpyszkv"
      },
      "outputs": [],
      "source": [
        "netflix_df['country'].value_counts()"
      ]
    },
    {
      "cell_type": "markdown",
      "metadata": {
        "id": "uweObeHbfGl-"
      },
      "source": [
        "1. Since 'date_added' and 'rating' has very less percentage of null count so we can drop those observations to avoid any biasness in our clustering model.\n",
        "2. We cannot drop or impute any values in 'director' and 'cast' as the null percentage is comparatevely high and we do not know data of those actual movie/TV shows, so its better to replace those entries with 'unknown'.\n",
        "3. We can fill null values of 'country' with mode as we only have 6% null values and most of the movies/shows are from US only."
      ]
    },
    {
      "cell_type": "code",
      "execution_count": null,
      "metadata": {
        "id": "QIe8b0njQfCA"
      },
      "outputs": [],
      "source": [
        "## Imputing null value as per our discussion\n",
        "# imputing with unknown in null values of director and cast feature\n",
        "netflix_df[['director','cast']]=netflix_df[['director','cast']].fillna(\"Unknown\")\n",
        "\n",
        "# Imputing null values of country with Mode\n",
        "netflix_df['country']=netflix_df['country'].fillna(netflix_df['country'].mode()[0])\n",
        "\n",
        "# Dropping remaining null values of date_added and rating\n",
        "netflix_df.dropna(axis=0, inplace=True)"
      ]
    },
    {
      "cell_type": "code",
      "execution_count": null,
      "metadata": {
        "id": "5p9z3LGxrb-c"
      },
      "outputs": [],
      "source": [
        "# Rechecking the Missing Values/Null Values Count\n",
        "print(\"-\"*50)\n",
        "print(\"Null value count in each of the column: \")\n",
        "print(\"-\"*50)\n",
        "print(netflix_df.isna().sum())\n",
        "print(\"-\"*50)\n",
        "\n",
        "# Rechecking the percentage of null values in each category\n",
        "print(\"Percentage of null values in each column: \")\n",
        "print(\"-\"*50)\n",
        "null_count_by_column = netflix_df.isnull().sum()/len(netflix_df)\n",
        "print(f\"{null_count_by_column*100}%\")\n",
        "print(\"-\"*50)"
      ]
    },
    {
      "cell_type": "markdown",
      "source": [
        "#### Country & Listed_in -"
      ],
      "metadata": {
        "id": "DgQ0Zrp113b9"
      }
    },
    {
      "cell_type": "code",
      "source": [
        "# Top countries\n",
        "netflix_df.country.value_counts()"
      ],
      "metadata": {
        "id": "QiPz_S61iN7b",
        "execution": {
          "iopub.status.busy": "2022-09-23T15:08:16.500946Z",
          "iopub.execute_input": "2022-09-23T15:08:16.501728Z",
          "iopub.status.idle": "2022-09-23T15:08:16.514289Z",
          "shell.execute_reply.started": "2022-09-23T15:08:16.501683Z",
          "shell.execute_reply": "2022-09-23T15:08:16.512781Z"
        },
        "trusted": true
      },
      "execution_count": null,
      "outputs": []
    },
    {
      "cell_type": "code",
      "source": [
        "# Genre of shows\n",
        "netflix_df.listed_in.value_counts()"
      ],
      "metadata": {
        "id": "fFRRhO_S1m-O",
        "execution": {
          "iopub.status.busy": "2022-09-23T15:08:16.692208Z",
          "iopub.execute_input": "2022-09-23T15:08:16.692680Z",
          "iopub.status.idle": "2022-09-23T15:08:16.704405Z",
          "shell.execute_reply.started": "2022-09-23T15:08:16.692637Z",
          "shell.execute_reply": "2022-09-23T15:08:16.703013Z"
        },
        "trusted": true
      },
      "execution_count": null,
      "outputs": []
    },
    {
      "cell_type": "markdown",
      "source": [
        "There are some movies / TV shows that were filmed in multiple countries, have multiple genres associated with it. lets find out them."
      ],
      "metadata": {
        "id": "mZAqmxg7AtOp"
      }
    },
    {
      "cell_type": "code",
      "source": [
        "# Find entries with multiple countries\n",
        "multiple_countries = netflix_df[netflix_df['country'].str.contains(',', na=False)]\n",
        "\n",
        "# Find entries with multiple genres\n",
        "multiple_genres = netflix_df[netflix_df['listed_in'].str.contains(',', na=False)]\n",
        "\n",
        "# Print movies/TV shows with multiple countries\n",
        "print(\"Movies/TV Shows Filmed in Multiple Countries:\")\n",
        "print(multiple_countries[['title', 'country']])\n",
        "\n",
        "# Print movies/TV shows with multiple genres\n",
        "print(\"\\nMovies/TV Shows with Multiple Genres:\")\n",
        "print(multiple_genres[['title', 'listed_in']])\n"
      ],
      "metadata": {
        "id": "umx6qmfxA8VR"
      },
      "execution_count": null,
      "outputs": []
    },
    {
      "cell_type": "markdown",
      "source": [
        "To simplify the analysis, let's consider only the primary country where that respective movie / TV show was filmed.\n",
        "Also, let's consider only the primary genre of the respective movie / TV show."
      ],
      "metadata": {
        "id": "VUNtT4MYBlpS"
      }
    },
    {
      "cell_type": "code",
      "source": [
        "# Function to extract the primary value\n",
        "def extract_primary(value):\n",
        "    if isinstance(value, str):\n",
        "        return value.split(',')[0]\n",
        "    return value\n",
        "\n",
        "# Apply the function to 'country' and 'listed_in' columns\n",
        "netflix_df['country'] = netflix_df['country'].apply(extract_primary)\n",
        "netflix_df['listed_in'] = netflix_df['listed_in'].apply(extract_primary)\n",
        "\n",
        "# Print the DataFrame with simplified values\n",
        "netflix_df"
      ],
      "metadata": {
        "id": "DvL3XV3YCgrK"
      },
      "execution_count": null,
      "outputs": []
    },
    {
      "cell_type": "markdown",
      "metadata": {
        "id": "NZPKopeX6sbn"
      },
      "source": [
        "#### date_added-"
      ]
    },
    {
      "cell_type": "code",
      "execution_count": null,
      "metadata": {
        "id": "P8R0iS-SFsvF"
      },
      "outputs": [],
      "source": [
        "# Typecasting 'date_added' from string to datetime\n",
        "netflix_df[\"date_added\"] = pd.to_datetime(netflix_df['date_added'])"
      ]
    },
    {
      "cell_type": "code",
      "execution_count": null,
      "metadata": {
        "id": "Z1NJR9xSF4M2"
      },
      "outputs": [],
      "source": [
        "# first and last date on which a show was added on Netflix\n",
        "netflix_df.date_added.min(),netflix_df.date_added.max()"
      ]
    },
    {
      "cell_type": "markdown",
      "metadata": {
        "id": "dwZeg0FhGDrV"
      },
      "source": [
        "The shows were added on Netflix between 1st January 2008 and 16th January 2021."
      ]
    },
    {
      "cell_type": "code",
      "execution_count": null,
      "metadata": {
        "id": "RK-NMCEa7Rpe"
      },
      "outputs": [],
      "source": [
        "# Adding new attributes day,  month and year of date added\n",
        "netflix_df['day_added'] = netflix_df['date_added'].dt.day\n",
        "netflix_df['month_added'] = netflix_df['date_added'].dt.month\n",
        "netflix_df['year_added'] = netflix_df['date_added'].dt.year\n",
        "# Dropping date_added\n",
        "netflix_df.drop('date_added', axis=1, inplace=True)"
      ]
    },
    {
      "cell_type": "markdown",
      "source": [
        "#### Rating -"
      ],
      "metadata": {
        "id": "2-VIzp9o_PpW"
      }
    },
    {
      "cell_type": "markdown",
      "source": [
        "The ratings can be changed to age restrictions that apply on certain movies and TV shows.\n",
        "\n",
        "[Reference](https://www.primevideo.com/help/ref=atv_hp_nd_cnt?nodeId=GFGQU3WYEG6FSJFJ)"
      ],
      "metadata": {
        "id": "GYH6o9C5_ZTa"
      }
    },
    {
      "cell_type": "code",
      "source": [
        "# Age ratings for shows in the dataset\n",
        "plt.figure(figsize=(10,5))\n",
        "sns.countplot(x='rating',data=netflix_df)"
      ],
      "metadata": {
        "id": "_JLaATR55d1b",
        "execution": {
          "iopub.status.busy": "2022-09-23T15:08:20.882287Z",
          "iopub.execute_input": "2022-09-23T15:08:20.882707Z",
          "iopub.status.idle": "2022-09-23T15:08:21.242942Z",
          "shell.execute_reply.started": "2022-09-23T15:08:20.882677Z",
          "shell.execute_reply": "2022-09-23T15:08:21.241975Z"
        },
        "trusted": true
      },
      "execution_count": null,
      "outputs": []
    },
    {
      "cell_type": "markdown",
      "source": [
        "**Highest number of shows on Netflix are rated by TV-MA, followed by TV-14 and TV-PG**"
      ],
      "metadata": {
        "id": "tLJqcBPL1bxp"
      }
    },
    {
      "cell_type": "code",
      "source": [
        "# Age ratings\n",
        "netflix_df.rating.unique()"
      ],
      "metadata": {
        "id": "tTEFapgfAHPG",
        "execution": {
          "iopub.status.busy": "2022-09-23T15:08:21.391882Z",
          "iopub.execute_input": "2022-09-23T15:08:21.392650Z",
          "iopub.status.idle": "2022-09-23T15:08:21.400776Z",
          "shell.execute_reply.started": "2022-09-23T15:08:21.392595Z",
          "shell.execute_reply": "2022-09-23T15:08:21.399870Z"
        },
        "trusted": true
      },
      "execution_count": null,
      "outputs": []
    },
    {
      "cell_type": "code",
      "source": [
        "# Changing the values in the rating column\n",
        "rating_map = {'TV-MA':'Adults',\n",
        "              'R':'Adults',\n",
        "              'PG-13':'Teens',\n",
        "              'TV-14':'Young Adults',\n",
        "              'TV-PG':'Older Kids',\n",
        "              'NR':'Adults',\n",
        "              'TV-G':'Kids',\n",
        "              'TV-Y':'Kids',\n",
        "              'TV-Y7':'Older Kids',\n",
        "              'PG':'Older Kids',\n",
        "              'G':'Kids',\n",
        "              'NC-17':'Adults',\n",
        "              'TV-Y7-FV':'Older Kids',\n",
        "              'UR':'Adults'}\n",
        "\n",
        "netflix_df['rating'].replace(rating_map, inplace = True)\n",
        "netflix_df['rating'].unique()"
      ],
      "metadata": {
        "id": "lF99X5Ki_81G",
        "execution": {
          "iopub.status.busy": "2022-09-23T15:08:21.643520Z",
          "iopub.execute_input": "2022-09-23T15:08:21.644752Z",
          "iopub.status.idle": "2022-09-23T15:08:21.660375Z",
          "shell.execute_reply.started": "2022-09-23T15:08:21.644706Z",
          "shell.execute_reply": "2022-09-23T15:08:21.659152Z"
        },
        "trusted": true
      },
      "execution_count": null,
      "outputs": []
    },
    {
      "cell_type": "code",
      "source": [
        "# Age ratings for shows in the dataset\n",
        "plt.figure(figsize=(10,5))\n",
        "sns.countplot(x='rating',data=netflix_df)"
      ],
      "metadata": {
        "id": "soSWSFzp2YZC",
        "execution": {
          "iopub.status.busy": "2022-09-23T15:08:22.014826Z",
          "iopub.execute_input": "2022-09-23T15:08:22.015862Z",
          "iopub.status.idle": "2022-09-23T15:08:22.278246Z",
          "shell.execute_reply.started": "2022-09-23T15:08:22.015809Z",
          "shell.execute_reply": "2022-09-23T15:08:22.276861Z"
        },
        "trusted": true
      },
      "execution_count": null,
      "outputs": []
    },
    {
      "cell_type": "markdown",
      "source": [
        "**Around 50% of shows on Netflix are produced for adult audience. Followed by young adults, older kids and kids. Netflix has the least number of shows that are specifically produced for teenagers than other age groups.**"
      ],
      "metadata": {
        "id": "XstF0DwV2izf"
      }
    },
    {
      "cell_type": "markdown",
      "metadata": {
        "id": "fP-WXlpr4Upg"
      },
      "source": [
        "#### Duration -"
      ]
    },
    {
      "cell_type": "code",
      "execution_count": null,
      "metadata": {
        "id": "fCuFlRCG4pVh"
      },
      "outputs": [],
      "source": [
        "# Splitting the duration column, and changing the datatype to integer\n",
        "netflix_df['duration'] = netflix_df['duration'].apply(lambda x: int(x.split()[0]))"
      ]
    },
    {
      "cell_type": "code",
      "execution_count": null,
      "metadata": {
        "id": "Z5cMFHl9yS8K"
      },
      "outputs": [],
      "source": [
        "# Number of seasons for tv shows\n",
        "netflix_df[netflix_df['type']=='TV Show'].duration.value_counts()"
      ]
    },
    {
      "cell_type": "code",
      "execution_count": null,
      "metadata": {
        "id": "AHHKkjoQykr3"
      },
      "outputs": [],
      "source": [
        "# Movie length in minutes\n",
        "netflix_df[netflix_df['type']=='Movie'].duration.unique()"
      ]
    },
    {
      "cell_type": "code",
      "execution_count": null,
      "metadata": {
        "id": "uQg22j9tyqy-"
      },
      "outputs": [],
      "source": [
        "# datatype of duration\n",
        "netflix_df.duration.dtype"
      ]
    },
    {
      "cell_type": "markdown",
      "metadata": {
        "id": "DewSQQ8c53BW"
      },
      "source": [
        "We have successfully converted the datatype of duration column to int."
      ]
    },
    {
      "cell_type": "markdown",
      "source": [
        "### What all manipulations have you done and insights you found?"
      ],
      "metadata": {
        "id": "eNUiNSFnKxzl"
      }
    },
    {
      "cell_type": "markdown",
      "source": [
        "There are 12 attributes out of which some attributes are not in proper datatypes like date_added and duration so we apply some method to convert them in desired datatype. after which we get to know that in type feature there is more movies in comparison of tv shows. we generate cloud word image to get know about common words that occured most in title. There are some movies / TV shows that were filmed in multiple countries, have multiple genres associated with it so we focus only primary country and primary genre for that type. Highest number of shows on Netflix are rated by TV-MA, followed by TV-14 and TV-PG so we change rating according to view preference like adults, teens, older kids etc and we found that Around 50% of shows on Netflix are produced for adult audience. Followed by young adults, older kids and kids. Netflix has the least number of shows that are specifically produced for teenagers than other age groups."
      ],
      "metadata": {
        "id": "X2X-sCXeKxzm"
      }
    },
    {
      "cell_type": "markdown",
      "source": [
        "## ***4. Data Vizualization, Storytelling & Experimenting with charts : Understand the relationships between variables***"
      ],
      "metadata": {
        "id": "M0B8EA8apwjd"
      }
    },
    {
      "cell_type": "markdown",
      "source": [
        "#### **What is EDA?**\n",
        "* EDA stands for Exploratory Data Analysis. It is a process of analyzing and understanding the data, which is an essential step in the data science process. The goal of EDA is to gain insights into the data, identify patterns, and discover relationships and trends. It is an iterative process that helps to identify outliers, missing values, and any other issues that may affect the analysis and modeling of the data.\n"
      ],
      "metadata": {
        "id": "6teK7QDAafEk"
      }
    },
    {
      "cell_type": "markdown",
      "source": [
        "### **UNIVARIATE ANALYSIS -**"
      ],
      "metadata": {
        "id": "bIz0rRQaZAK5"
      }
    },
    {
      "cell_type": "markdown",
      "source": [
        "#### Chart - 1: Analyze the type of content available on Netflix."
      ],
      "metadata": {
        "id": "tYV6EPSOpwkH"
      }
    },
    {
      "cell_type": "code",
      "source": [
        "# Chart - 1 visualization code\n",
        "\n",
        "fig,ax = plt.subplots(1,2, figsize=(14,5))\n",
        "\n",
        "# countplot\n",
        "graph = sns.countplot(x = 'type', data = netflix_df, ax=ax[0])\n",
        "graph.set_title('Count of Values', size=20)\n",
        "\n",
        "# piechart\n",
        "netflix_df['type'].value_counts().plot(kind='pie', autopct='%1.2f%%', ax=ax[1], figsize=(15,6),startangle=90)\n",
        "plt.title('Percentage Distribution', size=20)\n",
        "\n",
        "plt.tight_layout()\n",
        "plt.show()\n"
      ],
      "metadata": {
        "id": "zCZ7cVXtpwkH"
      },
      "execution_count": null,
      "outputs": []
    },
    {
      "cell_type": "markdown",
      "source": [
        "##### 1. Why did you pick the specific chart?"
      ],
      "metadata": {
        "id": "58JqKc2LpwkI"
      }
    },
    {
      "cell_type": "markdown",
      "source": [
        "we've chosen a countplot to show the exact counts of \"Movies\" and \"TV Shows.\" This gives a clear comparison of how many of each type of content is in our dataset. Additionally, we've chosen a pie chart to show the percentage distribution of these content types, which allows us to see the proportion of movies and TV shows in the whole dataset."
      ],
      "metadata": {
        "id": "ZsHOEoIGpwkI"
      }
    },
    {
      "cell_type": "markdown",
      "source": [
        "##### 2. What is/are the insight(s) found from the chart?"
      ],
      "metadata": {
        "id": "p5Q_WGRRpwkJ"
      }
    },
    {
      "cell_type": "markdown",
      "source": [
        "- The majority of the content available on Netflix is in the form of \"Movies.\"\n",
        "- \"TV Shows\" constitute a smaller portion of the overall content on the platform.\n",
        "- The pie chart provides a clear visual representation of the distribution, with \"Movies\" taking up a larger portion of the whole."
      ],
      "metadata": {
        "id": "5C-_osi_pwkM"
      }
    },
    {
      "cell_type": "markdown",
      "source": [
        "##### 3. Will the gained insights help creating a positive business impact?\n",
        "Are there any insights that lead to negative growth? Justify with specific reason."
      ],
      "metadata": {
        "id": "AgzjWlAgpwkM"
      }
    },
    {
      "cell_type": "markdown",
      "source": [
        "**Positive Business Impact:**\n",
        "\n",
        "1. Content Strategy: The insight that a larger portion of the content consists of \"Movies\" suggests that movies are more prevalent on the platform. This could inform content acquisition and production strategies, allowing Netflix to focus on obtaining popular and diverse movie titles to cater to a wider audience.\n",
        "\n",
        "2. User Engagement: Understanding that \"Movies\" dominate the content catalog can help Netflix tailor its marketing and user engagement strategies. This insight could lead to targeted promotional campaigns for specific genres, leveraging the popularity of movies to attract and retain subscribers.\n",
        "\n",
        "3. Retention Strategies: By knowing that movies are more abundant, Netflix can create customized recommendations and curated collections to enhance user engagement and satisfaction. Providing users with relevant movie suggestions could lead to increased usage and longer subscription durations.\n",
        "\n",
        "**Negative Growth Insights:**\n",
        "\n",
        "The provided visualizations do not directly indicate any insights that would lead to negative growth. However, it's important to note that the lack of \"TV Shows\" might imply a potential gap in certain content areas:\n",
        "\n",
        "1. Diversity of Content: If the available \"TV Shows\" are limited in number or variety, there could be negative implications for subscribers who prefer TV series. They might find the content offerings lacking, potentially leading to lower satisfaction or churn.\n",
        "\n",
        "2. Market Competitiveness: If competitors are offering a broader range of TV shows, Netflix might face challenges in attracting users who are specifically seeking TV series content. This could impact their market share.\n",
        "\n",
        "3. Subscription Tier Optimization: Depending on user preferences, Netflix might need to optimize its subscription tiers. If users primarily prefer TV shows, they might expect more options in lower-cost tiers, which could affect the perceived value of subscriptions."
      ],
      "metadata": {
        "id": "ji_4h1QspwkN"
      }
    },
    {
      "cell_type": "markdown",
      "source": [
        "#### Chart - 2: top 10 countries in content creation."
      ],
      "metadata": {
        "id": "3A8ciEmWpwkO"
      }
    },
    {
      "cell_type": "code",
      "source": [
        "# Chart - 2 visualization code\n",
        "\n",
        "df_country = netflix_df.groupby(['country']).agg({'title':'nunique'}).reset_index().sort_values(by=['title'],ascending=False)[:10]\n",
        "plt.figure(figsize=(15,6))\n",
        "plots= sns.barplot(y = \"country\",x = 'title', data = df_country)\n",
        "plt.xticks(rotation = 60)\n",
        "plt.title('Top 10 Countries for content creation')\n",
        "plt.grid(linestyle='--', linewidth=0.3)\n",
        "plots.bar_label(plots.containers[0])\n",
        "plt.show()"
      ],
      "metadata": {
        "id": "vjNlGssPxNrf"
      },
      "execution_count": null,
      "outputs": []
    },
    {
      "cell_type": "markdown",
      "source": [
        "##### 1. Why did you pick the specific chart?"
      ],
      "metadata": {
        "id": "sOWKfSR6pwkP"
      }
    },
    {
      "cell_type": "markdown",
      "source": [
        "The reason to choose a bar plot in this context is that it effectively visualizes the distribution of categorical data, which in this case is the primary filming country. Here's why a bar plot is appropriate:\n",
        "\n",
        "1. Categorical Data: The primary filming country is a categorical variable, and a bar plot is a common choice for visualizing the distribution of categorical data. Each country is represented by a separate bar, making it easy to compare the counts of shows for different countries.\n",
        "\n",
        "2. Comparison: A bar plot allows you to quickly identify and compare the countries with the highest number of shows. The lengths of the bars provide a clear visual representation of the frequency of shows from each country.\n",
        "\n",
        "3. Ordered Presentation: You can order the bars in descending order of show counts, placing the countries with the highest counts at the top. This helps in quickly identifying the top contributors.\n",
        "\n",
        "4. Ease of Interpretation: Viewers can easily read the values on the y-axis (show counts) corresponding to each country on the x-axis, allowing for accurate interpretation of the distribution.\n",
        "\n",
        "5. Insight Extraction: By observing the bar lengths, you can immediately identify the countries that have a significant presence on Netflix in terms of content production.\n",
        "\n",
        "In summary, a bar plot is a suitable choice for visualizing the distribution of shows by primary filming country because it effectively presents categorical data in a manner that allows for easy comparison and insight extraction."
      ],
      "metadata": {
        "id": "RegaEtMzpwkP"
      }
    },
    {
      "cell_type": "markdown",
      "source": [
        "##### 2. What is/are the insight(s) found from the chart?"
      ],
      "metadata": {
        "id": "6V69H10_pwkQ"
      }
    },
    {
      "cell_type": "markdown",
      "source": [
        "The output of the top countries with the highest number of shows provides valuable insights into the distribution of content on Netflix based on primary filming countries. Here are some insights we can gain from this information:\n",
        "\n",
        "1. Content Production Leaders: The United States has a significant lead with the highest number of shows, indicating that it's a major contributor to Netflix's content library. This could be attributed to the presence of a robust entertainment industry in the U.S.\n",
        "\n",
        "2. Global Diversity: Countries like India, the United Kingdom, Canada, and Japan also have a substantial number of shows. This suggests a diverse range of content from various parts of the world, catering to different viewer preferences and cultures.\n",
        "\n",
        "3. Language and Localization: The presence of shows from different countries highlights Netflix's efforts to offer content in multiple languages and localize content for global audiences. This diversity can help attract and retain a broader subscriber base.\n",
        "\n",
        "4. Regional Appeal: Countries like South Korea, Spain, and Mexico are notable contributors, indicating the popularity of content from these regions. This could reflect a growing interest in international content and a willingness to explore shows from different cultures.\n",
        "\n",
        "5. Potential Audience Segmentation: The distribution of shows across countries can aid Netflix in segmenting its audience based on preferences. For example, they might offer curated content to specific regions to cater to local tastes.\n",
        "\n",
        "6. Collaborative Productions: Co-productions between countries could also be contributing to the high numbers for some countries. Collaborations allow for the sharing of resources and talent, leading to more diverse and engaging content.\n",
        "\n",
        "7. Market Penetration: The number of shows from a specific country might reflect the extent of Netflix's penetration into that market. Higher numbers could indicate a stronger presence and focus in certain regions."
      ],
      "metadata": {
        "id": "NGBhQB-cpwkQ"
      }
    },
    {
      "cell_type": "markdown",
      "source": [
        "##### 3. Will the gained insights help creating a positive business impact?\n",
        "Are there any insights that lead to negative growth? Justify with specific reason."
      ],
      "metadata": {
        "id": "OF-lRoK-pwkR"
      }
    },
    {
      "cell_type": "markdown",
      "source": [
        "The gained insights about the distribution of shows by primary filming countries can indeed have a positive business impact for Netflix, but there are also potential challenges that need to be considered. Let's examine both the positive and potentially negative aspects:\n",
        "\n",
        "**Positive Business Impact:**\n",
        "\n",
        "1. Global Market Expansion: The insights highlight that Netflix has a diverse content library spanning various countries. This can attract a global audience, leading to positive growth by expanding its subscriber base in different regions.\n",
        "\n",
        "2. Localized Content: Understanding the top contributing countries allows Netflix to focus on creating and acquiring content that resonates with specific markets. This localization strategy can lead to higher engagement and viewer satisfaction.\n",
        "\n",
        "3. Cultural Relevance: Content from different countries provides opportunities to cater to cultural and regional preferences. This can foster a sense of inclusivity and connect with viewers on a deeper level.\n",
        "\n",
        "4. Strategic Partnerships: High show counts from specific countries can signify successful partnerships and collaborations. Netflix can continue nurturing these relationships for co-productions and exclusive content, strengthening its position in the market.\n",
        "\n",
        "5. Data-Informed Decisions: The insights help Netflix make informed decisions about content acquisition, production, and distribution. This can optimize resource allocation and content strategy.\n",
        "\n",
        "**Potential Challenges and Negative Impact:**\n",
        "\n",
        "1. Market Saturation: Relying heavily on content from a few countries, particularly the United States, might lead to market saturation. Overwhelming viewers with content from a single region can limit appeal to a broader global audience.\n",
        "\n",
        "2. Cultural Misalignment: While localization is beneficial, there's a risk of cultural misalignment if content is not adapted accurately. Insensitive content can lead to negative backlash and viewer attrition.\n",
        "\n",
        "3. Competition and Differentiation: If other streaming platforms offer unique content from underrepresented regions, Netflix might face competition for viewership. Lack of diversity could hinder differentiation.\n",
        "\n",
        "4. Localization Complexity: Producing and localizing content for multiple countries can be complex and resource-intensive. This can strain budgets and operational efficiency.\n",
        "\n",
        "5. Content Diversity: Focusing excessively on countries with high show counts might lead to overlooking content from regions with smaller contributions. Diversifying content sources is essential for attracting a broader audience."
      ],
      "metadata": {
        "id": "g0IdQw75pwkR"
      }
    },
    {
      "cell_type": "markdown",
      "source": [
        "#### Chart - 3: content growth over the years?"
      ],
      "metadata": {
        "id": "NtKCX7Z5pwkS"
      }
    },
    {
      "cell_type": "code",
      "source": [
        "# Chart - 3 visualization code\n",
        "\n",
        "\n",
        "# Filter data by type (TV Show or Movie)\n",
        "tv_show = netflix_df[netflix_df[\"type\"] == \"TV Show\"]\n",
        "movie = netflix_df[netflix_df[\"type\"] == \"Movie\"]\n",
        "\n",
        "col = \"year_added\"\n",
        "\n",
        "# Count content added each year for TV Shows and Movies\n",
        "content_1 = tv_show[col].value_counts().reset_index()\n",
        "content_1 = content_1.rename(columns={col: \"count\", \"index\": col})\n",
        "content_1 = content_1.sort_values(col)\n",
        "\n",
        "content_2 = movie[col].value_counts().reset_index()\n",
        "content_2 = content_2.rename(columns={col: \"count\", \"index\": col})\n",
        "content_2 = content_2.sort_values(col)\n",
        "\n",
        "# Create traces for TV Shows and Movies\n",
        "trace1 = go.Scatter(x=content_1[col], y=content_1[\"count\"], name=\"TV Shows\", marker=dict(color=\"#db0000\"))\n",
        "trace2 = go.Scatter(x=content_2[col], y=content_2[\"count\"], name=\"Movies\", marker=dict(color=\"#564d4d\"))\n",
        "\n",
        "data = [trace1, trace2]\n",
        "layout = go.Layout(\n",
        "    title=\"Content Added Over the Years\",\n",
        "    xaxis=dict(title=\"Year\"),\n",
        "    yaxis=dict(title=\"Count\"),\n",
        "    legend=dict(x=0.4, y=1.1, orientation=\"h\")\n",
        ")\n",
        "fig = go.Figure(data, layout=layout)\n",
        "\n",
        "# Display the figure (if using show)\n",
        "fig.show()\n"
      ],
      "metadata": {
        "id": "lp8-NCMPAnhP"
      },
      "execution_count": null,
      "outputs": []
    },
    {
      "cell_type": "markdown",
      "source": [
        "##### 1. Why did you pick the specific chart?"
      ],
      "metadata": {
        "id": "_x1b1mOipwkT"
      }
    },
    {
      "cell_type": "markdown",
      "source": [
        "The choice of chart in the code you provided is a line chart (specifically, a scatter plot with connected lines) to visualize the growth of content (TV shows and movies) over the years. Here's why this choice of chart might be suitable:\n",
        "\n",
        "1. Temporal Data: The x-axis represents years, which is a continuous variable and can be effectively shown using a line chart. Line charts are often used to display trends over time.\n",
        "\n",
        "2. Comparison: The line chart allows you to compare the growth of TV shows and movies side by side. Each line represents a content type, making it easy to observe the trends and differences.\n",
        "\n",
        "3. Connected Data Points: In your code, you've used a scatter plot with connected lines. This is a good choice when you have discrete data points (years) but still want to show the trend between them.\n",
        "\n",
        "4. Multiple Series: You have two data series (TV shows and movies) that you want to compare. Line charts are well-suited for displaying multiple series on the same graph.\n",
        "\n",
        "5. Year-to-Year Change: Line charts are effective for showing changes in data over time. You can quickly see if there are any spikes or drops in content added during certain years."
      ],
      "metadata": {
        "id": "qZco01E2pwkU"
      }
    },
    {
      "cell_type": "markdown",
      "source": [
        "##### 2. What is/are the insight(s) found from the chart?"
      ],
      "metadata": {
        "id": "lPGIjtmWpwkU"
      }
    },
    {
      "cell_type": "markdown",
      "source": [
        "**TV Shows:**\n",
        "\n",
        "* There was a small amount of TV show content added in the early years (2008 to 2010), possibly indicating the beginning of Netflix's original content creation.\n",
        "* A notable increase in TV show additions started around 2015, which continued to grow in the subsequent years.\n",
        "* The highest growth in TV show content occurred from 2016 to 2020, with a peak of 697 TV shows added in 2020.\n",
        "* There seems to be a significant drop in TV show additions in 2021 compared to the previous years.\n",
        "\n",
        "**Movies:**\n",
        "\n",
        "* Similar to TV shows, the earliest years (2008 to 2010) saw a relatively small number of movie additions.\n",
        "* There's a noticeable increase in movie additions starting from 2014, with a more significant rise in 2016.\n",
        "* The growth trend continues from 2016 to 2019, with the highest number of movies (1497) added in 2019.\n",
        "* Movie additions show a slight decline in 2020, followed by a relatively higher number of additions in 2021.\n",
        "\n",
        "**Overall Insights:**\n",
        "\n",
        "* Both TV shows and movies exhibit a growth trend over the years, with significant expansion starting around 2015-2016.\n",
        "* The years 2018 and 2019 appear to be particularly active in terms of content additions for both TV shows and movies.\n",
        "* The drop in content additions in 2020 might be attributed to factors like production delays caused by the COVID-19 pandemic.\n",
        "* The lower number of additions in 2021 for both TV shows and movies could indicate a potential shift in strategy or the impact of ongoing circumstances."
      ],
      "metadata": {
        "id": "cYrrvQntpwkV"
      }
    },
    {
      "cell_type": "markdown",
      "source": [
        "##### 3. Will the gained insights help creating a positive business impact?\n",
        "Are there any insights that lead to negative growth? Justify with specific reason."
      ],
      "metadata": {
        "id": "jMepXDbnpwkV"
      }
    },
    {
      "cell_type": "markdown",
      "source": [
        "**Positive Business Impact:**\n",
        "\n",
        "1. Strategic Decision-Making: The insights into the years of significant growth (such as 2018-2019) can help Netflix understand what strategies, content acquisitions, or original productions were successful during those periods. This information can guide future decision-making to replicate and build upon those successes.\n",
        "\n",
        "2. Content Investment: Identifying trends in content growth can help Netflix allocate resources more effectively. For instance, if TV shows have shown consistent growth, Netflix might choose to invest more in producing and acquiring TV show content, targeting genres and themes that have proven popular.\n",
        "\n",
        "3. Subscriber Retention and Attraction: Consistent content growth can be a driver for subscriber retention and acquisition. New and diverse content attracts and retains subscribers, potentially reducing churn rates.\n",
        "\n",
        "4. Global Events Impact: The drop in content additions in 2020 can be attributed to the COVID-19 pandemic, which disrupted production schedules worldwide. This insight can be useful for understanding the impact of external events on content availability and setting expectations for subscribers during such periods.\n",
        "\n",
        "**Potential Negative Impact:**\n",
        "\n",
        "1. Decline in Content Additions: The drop in content additions in 2021, both for TV shows and movies, could potentially lead to a decrease in subscriber engagement and retention. Users often expect a steady stream of fresh content, and a sudden drop could result in dissatisfaction.\n",
        "\n",
        "2. Competition and Variety: The consistent growth in content could lead to oversaturation and reduced audience engagement if the content quality or variety isn't maintained. Users may become overwhelmed with choices, and competitors might offer content that better aligns with specific tastes.\n",
        "\n",
        "3. Production Delays: Production delays due to unforeseen events, as seen in 2020, could lead to lower content availability. This could negatively impact user engagement and satisfaction, potentially affecting subscription renewals.\n",
        "\n",
        "4. Content Quality: While the insights provided do not directly touch upon content quality, it's important to consider that growth should be accompanied by maintaining high-quality content. If content additions are made solely to meet quantity targets without considering quality, it could lead to dissatisfaction among subscribers."
      ],
      "metadata": {
        "id": "aDe213XhpwkW"
      }
    },
    {
      "cell_type": "markdown",
      "source": [
        "#### Chart - 4: In which month do most movies and tv shows get added on netflix?"
      ],
      "metadata": {
        "id": "exTux-KypwkW"
      }
    },
    {
      "cell_type": "code",
      "source": [
        "# Chart - 4 visualization code\n",
        "\n",
        "\n",
        "# Create dataframe to store month values and counts.\n",
        "months_df = pd.DataFrame(netflix_df.month_added.value_counts())\n",
        "months_df.reset_index(inplace=True)\n",
        "months_df.rename(columns={'index':'month', 'month_added':'count'}, inplace=True)\n",
        "fig = px.bar(months_df, x=\"month\", y=\"count\", text_auto=True, color='count', color_continuous_scale=['#db0000', '#564d4d'])\n",
        "fig.update_layout(\n",
        "    title={\n",
        "        'text': 'Month wise addition of movies and shows to the platform',\n",
        "        'y':0.95,\n",
        "        'x':0.5,\n",
        "        'xanchor': 'center',\n",
        "        'yanchor': 'top'},\n",
        "        autosize=False,\n",
        "        width=1000,\n",
        "        height=500)\n",
        "fig.show()\n"
      ],
      "metadata": {
        "id": "WkcdjLYDpwkX"
      },
      "execution_count": null,
      "outputs": []
    },
    {
      "cell_type": "markdown",
      "source": [
        "##### 1. Why did you pick the specific chart?"
      ],
      "metadata": {
        "id": "ApYWPxMVpwkX"
      }
    },
    {
      "cell_type": "markdown",
      "source": [
        "the bar chart is an appropriate choice for this visualization because it effectively displays the distribution of content additions across months and allows for easy comparison and interpretation of the data."
      ],
      "metadata": {
        "id": "gAsHtAkvpwkY"
      }
    },
    {
      "cell_type": "markdown",
      "source": [
        "##### 2. What is/are the insight(s) found from the chart?"
      ],
      "metadata": {
        "id": "1pe5iKW9pwkY"
      }
    },
    {
      "cell_type": "markdown",
      "source": [
        "* High-Volume Months: The months with the highest content additions are December (833), October (785), and January (757). These months seem to be particularly active in terms of adding new content to the platform.\n",
        "\n",
        "* End-of-Year Peaks: December stands out as the month with the highest content additions. This could be related to the holiday season, where more people might be engaged in streaming and the platform might want to provide a variety of content choices.\n",
        "\n",
        "* Release Patterns: The top months for content additions (December, October, January) might correspond to popular times for content releases, aligning with holidays, school breaks, or other cultural events.\n",
        "\n",
        "* Mid-Year Dips: Months like May (543) and June (542) show relatively lower content additions. This could be due to factors like production schedules, vacation periods, or a focus on promoting existing content.\n",
        "\n",
        "* Consistent Activity: Months from March to August (with counts ranging from 542 to 669) show consistent content additions. This could reflect a strategy to provide a steady stream of new content throughout the year.\n",
        "\n",
        "* Potential Seasonal Patterns: It's interesting to see that December, October, and January are clustered at the top. This could indicate a seasonal pattern related to holidays, colder weather, or viewer behavior during specific periods.\n",
        "\n",
        "* Varied Peaks: While December, October, and January are high-volume months, it's notable that other months like November (738) and February (472) also have substantial content additions."
      ],
      "metadata": {
        "id": "0InV6B5xpwkZ"
      }
    },
    {
      "cell_type": "markdown",
      "source": [
        "##### 3. Will the gained insights help creating a positive business impact?\n",
        "Are there any insights that lead to negative growth? Justify with specific reason."
      ],
      "metadata": {
        "id": "_J0WdHr7pwkc"
      }
    },
    {
      "cell_type": "markdown",
      "source": [
        "**Positive Business Impact:**\n",
        "\n",
        "1. Strategic Content Releases: The insights into high-volume months (such as December, October, and January) can be leveraged for strategic content releases. By concentrating major releases during these months, Netflix can maximize viewer engagement and subscriptions, leading to positive business impact.\n",
        "\n",
        "2. Subscriber Engagement: Releasing content during months of higher user engagement can enhance user satisfaction and encourage longer subscriptions. Users are more likely to stay engaged when they have a variety of new content options.\n",
        "\n",
        "3. Marketing Campaigns: The months with higher content additions can be targeted for marketing campaigns to highlight the availability of new and exciting content. This can attract both new subscribers and existing ones.\n",
        "\n",
        "4. Revenue Generation: Optimizing content release schedules can lead to increased user engagement, attracting more viewers and generating additional revenue through increased subscription numbers and user retention.\n",
        "\n",
        "**Potential Negative Impact:**\n",
        "\n",
        "1. Content Oversaturation: Focusing too heavily on high-volume months could lead to content oversaturation during those periods. This might result in users feeling overwhelmed by the choices and potentially not fully engaging with the content.\n",
        "\n",
        "2. Neglecting Low-Volume Months: Overemphasizing high-volume months could lead to neglecting low-volume months. If users experience a lack of new content during these months, they might become dissatisfied and consider canceling subscriptions.\n",
        "\n",
        "3. Unpredictable Viewer Behavior: While the insights show trends, viewer behavior can be unpredictable. Relying solely on high-volume months might not fully capture the diverse preferences and viewing habits of all subscribers.\n",
        "\n",
        "4. Competition: Other streaming platforms might also capitalize on high-volume months, leading to increased competition for viewers' attention and subscriptions. This could result in a fragmented audience and potential negative impact on subscriber numbers.\n",
        "\n",
        "5. Quality Over Quantity: Prioritizing content additions during high-volume months might compromise content quality. Focusing on releasing high-quality content should be a priority to maintain viewer satisfaction and loyalty."
      ],
      "metadata": {
        "id": "KR6Xf7FZpwkd"
      }
    },
    {
      "cell_type": "markdown",
      "source": [
        "#### Chart - 5: Which days are more prominent?"
      ],
      "metadata": {
        "id": "--d87OMWpwke"
      }
    },
    {
      "cell_type": "code",
      "source": [
        "# Chart - 5 visualization code\n",
        "\n",
        "# Create dataframe to store day values and count.\n",
        "days_df = pd.DataFrame(netflix_df.day_added.value_counts())\n",
        "days_df.reset_index(inplace=True)\n",
        "days_df.rename(columns={'index':'day', 'day_added':'count'}, inplace=True)\n",
        "\n",
        "fig = px.bar(days_df, x=\"day\", y=\"count\", text_auto=True, color='count', color_continuous_scale=['#db0000', '#564d4d'])\n",
        "fig.update_layout(\n",
        "    title={\n",
        "        'text': 'Which days are more prominent',\n",
        "        'y':0.95,\n",
        "        'x':0.5,\n",
        "        'xanchor': 'center',\n",
        "        'yanchor': 'top'},\n",
        "        autosize=False,\n",
        "        width=1200,\n",
        "        height=600)\n",
        "fig.show()\n"
      ],
      "metadata": {
        "id": "J2lHTTrIpwke"
      },
      "execution_count": null,
      "outputs": []
    },
    {
      "cell_type": "markdown",
      "source": [
        "##### 1. Why did you pick the specific chart?"
      ],
      "metadata": {
        "id": "8de76TRcpwke"
      }
    },
    {
      "cell_type": "markdown",
      "source": [
        "the bar chart is a suitable choice for this visualization because it effectively displays the distribution of content additions across days of the week and allows for easy comparison and interpretation of the data."
      ],
      "metadata": {
        "id": "lW7W8MZtpwkf"
      }
    },
    {
      "cell_type": "markdown",
      "source": [
        "##### 2. What is/are the insight(s) found from the chart?"
      ],
      "metadata": {
        "id": "wtpKio9Bpwkf"
      }
    },
    {
      "cell_type": "markdown",
      "source": [
        "* Weekdays Dominate: Weekdays (days 1 to 5) have significantly higher content additions compared to weekends (days 6 and 7). This suggests that content is added more frequently during weekdays.\n",
        "\n",
        "* Day 1 Peak: day 1 has the highest count of content additions (2069). This suggests a potential trend of adding new content at the beginning of the week.\n",
        "\n",
        "* Mid-Month Peaks: Days around the 15th of the month (days 15 and 16) have relatively high content additions (644 and 240, respectively). This could indicate a trend of content additions around the middle of the month.\n",
        "\n",
        "* End-of-Month Surges: Days at the end of the month (days 31, 30, and 31) also show relatively higher content additions (274, 182, and 130, respectively). This could be related to content releases before the end of the month.\n",
        "\n",
        "* Variation on Weekends: Days 6 and 7 (Saturday and Sunday) have lower content additions (165 and 162, respectively), suggesting a potential strategy of focusing less on weekends.\n",
        "\n",
        "* Consistency in Numbers: Days in the mid-range (days 18 to 28) show consistent content additions, indicating a steady flow of new content throughout the month.\n",
        "\n",
        "* Influence of Viewer Behavior: The higher content additions at the beginning and middle of the month might reflect viewer behavior patterns, such as higher engagement after weekends and around mid-month paydays."
      ],
      "metadata": {
        "id": "cXpaPC8Wpwkg"
      }
    },
    {
      "cell_type": "markdown",
      "source": [
        "##### 3. Will the gained insights help creating a positive business impact?\n",
        "Are there any insights that lead to negative growth? Justify with specific reason."
      ],
      "metadata": {
        "id": "tcrxM7bOpwkg"
      }
    },
    {
      "cell_type": "markdown",
      "source": [
        "**Positive Business Impact:**\n",
        "\n",
        "1. Strategic Content Releases: The insights into days with higher content additions (e.g., Mondays, mid-month, end-of-month) can be leveraged for strategic content releases. By concentrating major releases during these periods, Netflix can maximize viewer engagement and subscriptions.\n",
        "\n",
        "2. Optimized User Engagement: Aligning content releases with days of the week when users are most active (e.g., weekdays) can lead to optimized user engagement and longer subscription durations. Users are more likely to engage when there's fresh content available.\n",
        "\n",
        "3. Viewer Satisfaction: Consistent content additions throughout the week can enhance viewer satisfaction. Offering a steady stream of new content prevents content gaps and provides viewers with reasons to keep using the platform.\n",
        "\n",
        "4. Content Variety: Analyzing specific days with lower content additions (e.g., weekends) could be an opportunity to diversify content and cater to different viewer preferences during those times.\n",
        "\n",
        "**Potential Negative Impact:**\n",
        "\n",
        "1. Neglecting Weekends: Overemphasizing weekdays for content additions might lead to neglecting weekends. If users experience a lack of new content during leisure days, they might become dissatisfied and consider canceling subscriptions.\n",
        "\n",
        "2. Viewer Fatigue: Concentrating content additions on specific peak days (e.g., Mondays) might result in viewer fatigue. Releasing too much content all at once could lead to oversaturation and reduced engagement.\n",
        "\n",
        "3. Content Quality Over Quantity: Focusing solely on aligning content additions with specific days could compromise content quality. It's important to ensure that content releases maintain high quality to retain viewer satisfaction.\n",
        "\n",
        "4. Neglecting Viewer Diversity: Viewer behavior varies widely, and not all users follow the same patterns. Relying exclusively on the insights from certain days might overlook segments of users with different preferences and schedules.\n",
        "\n",
        "5. Competition: If other streaming platforms also follow similar patterns of concentrated content releases, it could lead to increased competition for viewers' attention, potentially resulting in a fragmented audience."
      ],
      "metadata": {
        "id": "7slOzm9Epwkh"
      }
    },
    {
      "cell_type": "markdown",
      "source": [
        "#### Chart - 6: top 10 and last 10 genre present in listed in."
      ],
      "metadata": {
        "id": "OBg2trjapwki"
      }
    },
    {
      "cell_type": "code",
      "source": [
        "# Chart - 6 visualization code\n",
        "\n",
        "\n",
        "# seperating genre from listed_in columns for analysis purpose\n",
        "genres = netflix_df['listed_in'].str.split(', ', expand=True).stack()\n",
        "# top 10 genres in listed movies/TV shows\n",
        "genres = genres.value_counts().reset_index().rename(columns={'index':'genre', 0:'count'})\n",
        "\n",
        "# plotting graph\n",
        "fig,ax = plt.subplots(1,2, figsize=(15,6))\n",
        "\n",
        "# Top 10 genres\n",
        "top = sns.barplot(x='genre', y = 'count', data=genres[:10], ax=ax[0])\n",
        "top.set_title('Top 10 genres present in Netflix', size=20)\n",
        "plt.setp(top.get_xticklabels(), rotation=90)\n",
        "\n",
        "# Last 10 genres\n",
        "bottom = sns.barplot(x='genre', y = 'count', data=genres[-10:], ax=ax[1])\n",
        "bottom.set_title('Last 10 genres present in Netflix', size=20)\n",
        "plt.xticks(rotation=90)\n",
        "\n",
        "plt.tight_layout()\n",
        "plt.show()"
      ],
      "metadata": {
        "id": "GNGDTSL_pwki"
      },
      "execution_count": null,
      "outputs": []
    },
    {
      "cell_type": "markdown",
      "source": [
        "##### 1. Why did you pick the specific chart?"
      ],
      "metadata": {
        "id": "pzIh4x5fpwkj"
      }
    },
    {
      "cell_type": "markdown",
      "source": [
        "The choice of using a bar plot (bar chart) in the provided code is appropriate for visualizing the distribution of genres in the \"listed_in\" column of the Netflix dataset. Here's why a bar plot is a suitable choice for this visualization:\n",
        "\n",
        "1. Categorical Data: The genres extracted from the \"listed_in\" column are categorical data. A bar plot is commonly used to represent the distribution of categorical data.\n",
        "\n",
        "2. Comparison: Bar plots are ideal for comparing the frequency or count of different categories. In this case, you're comparing the count of each genre.\n",
        "\n",
        "3. Ordered Data: The x-axis represents genres, and you're interested in understanding their relative frequencies. The x-axis categories don't need to be sorted, but a bar plot can still accommodate unsorted categorical data."
      ],
      "metadata": {
        "id": "OwUf8v31pwkk"
      }
    },
    {
      "cell_type": "markdown",
      "source": [
        "##### 2. What is/are the insight(s) found from the chart?"
      ],
      "metadata": {
        "id": "tJoeRRfspwkk"
      }
    },
    {
      "cell_type": "markdown",
      "source": [
        "**Top 10 Genres:**\n",
        "\n",
        "1. Diverse Genre Offerings: The top genres include a variety of content, ranging from dramas, comedies, documentaries, and action & adventure. This diversity reflects Netflix's efforts to cater to a wide range of viewer preferences.\n",
        "\n",
        "2. Mainstream Appeal: Genres like dramas, comedies, and documentaries have a high count, indicating their popularity and mainstream appeal among viewers.\n",
        "\n",
        "3. Global Audience: The presence of \"International TV Shows\" in the top genres suggests that Netflix has a strong focus on providing content from various countries, appealing to a global audience.\n",
        "\n",
        "4. Family and Kids' Content: The presence of \"Children & Family Movies,\" \"Kids' TV,\" and \"Animation\" genres indicates a commitment to offering family-friendly content.\n",
        "\n",
        "5. Entertainment Variety: Genres like \"Stand-Up Comedy\" and \"Music & Musicals\" add entertainment variety, addressing different moods and preferences.\n",
        "\n",
        "**Last 10 Genres:**\n",
        "\n",
        "1. Niche and Specialized Content: The genres in the last 10 list, such as \"Cult Movies,\" \"TV Horror,\" and \"Sci-Fi & Fantasy,\" tend to be more specialized and might cater to niche audiences.\n",
        "\n",
        "2. Limited Appeal: Genres with lower counts, such as \"LGBTQ Movies,\" \"Sports Movies,\" and \"Spanish-Language TV Shows,\" suggest that these genres might have limited appeal compared to more mainstream genres.\n",
        "\n",
        "3. Highly Specific Content: The genres \"TV Sci-Fi & Fantasy\" and \"TV Horror\" are specific subgenres that might cater to fans of these particular genres.\n",
        "\n",
        "4. Limited Availability: Some genres with very low counts (e.g., \"Sports Movies\") might indicate that Netflix offers limited content within those genres.\n",
        "\n",
        "5. Viewer Diversity: The presence of genres like \"TV Shows\" and \"Romantic Movies\" suggests that Netflix aims to cater to diverse viewer interests, even if these genres have lower counts.\n",
        "\n",
        "6. Content Focus: Lower counts in some genres might reflect a strategic decision to focus resources on more popular and mainstream genres."
      ],
      "metadata": {
        "id": "EKW6Nokzpwkl"
      }
    },
    {
      "cell_type": "markdown",
      "source": [
        "##### 3. Will the gained insights help creating a positive business impact?\n",
        "Are there any insights that lead to negative growth? Justify with specific reason."
      ],
      "metadata": {
        "id": "cClm0Oo8pwkl"
      }
    },
    {
      "cell_type": "markdown",
      "source": [
        "**Positive Business Impact:**\n",
        "\n",
        "1. Viewer Engagement: Offering a diverse range of popular genres (e.g., dramas, comedies, documentaries) can lead to higher viewer engagement, longer viewing sessions, and increased subscription renewals.\n",
        "\n",
        "2. Global Audience: The inclusion of \"International TV Shows\" reflects Netflix's commitment to catering to a global audience. This can lead to a broader user base and positive business impact through increased international subscriptions.\n",
        "\n",
        "3. Family-Friendly Content: Providing genres like \"Children & Family Movies\" and \"Kids' TV\" can attract families and parents, resulting in higher subscriptions and positive word-of-mouth recommendations.\n",
        "\n",
        "4. Entertainment Variety: Offering a mix of genres, including \"Stand-Up Comedy\" and \"Music & Musicals,\" can attract viewers seeking different types of entertainment, leading to longer engagement on the platform.\n",
        "\n",
        "5. Catering to Niche Audiences: While some genres have lower counts, they might cater to niche audiences with passionate fan bases. Satisfying these niche audiences can lead to increased loyalty and positive reviews.\n",
        "\n",
        "**Potential Negative Impact:**\n",
        "\n",
        "1. Neglected Genres: Overemphasis on popular genres could lead to neglecting genres with lower counts. This might result in decreased engagement from viewers who prefer these genres.\n",
        "\n",
        "2. Oversaturation: Overemphasizing the most popular genres might lead to oversaturation, causing viewers to become overwhelmed with content choices and potentially reducing engagement.\n",
        "\n",
        "3. Limited Niche Content: While catering to niche audiences is valuable, focusing solely on niche genres might limit overall viewership and potentially result in negative growth if those genres don't have a sustainable audience.\n",
        "\n",
        "4. Quality Over Quantity: Prioritizing quantity over quality in certain genres could lead to viewer dissatisfaction, negative reviews, and potential churn.\n",
        "\n",
        "5. Missed Opportunities: Neglecting certain genres (e.g., LGBTQ Movies, Spanish-Language TV Shows) might miss opportunities to capture specific viewer segments, potentially leading to negative growth within those segments.\n",
        "\n",
        "6. Competition: If certain genres are neglected or not well-curated, viewers might turn to other streaming platforms that offer more diverse and tailored genre options."
      ],
      "metadata": {
        "id": "wpsFp5Lppwkm"
      }
    },
    {
      "cell_type": "markdown",
      "source": [
        "#### Chart - 7: Number of shows/movies on Netflix for different age groups."
      ],
      "metadata": {
        "id": "jI136Jxtpwkm"
      }
    },
    {
      "cell_type": "code",
      "source": [
        "# Chart - 7 visualization code\n",
        "\n",
        "sns.set(rc={'figure.figsize':(15,7)})\n",
        "sns.countplot(x='year_added',data=netflix_df,palette=\"Set1\")\n",
        "\n",
        "plt.title('Total shows/movies added each year on netflix ',size='15',fontweight=\"bold\")\n",
        "plt.show()\n",
        "\n"
      ],
      "metadata": {
        "id": "10ZJuHLVpwkn"
      },
      "execution_count": null,
      "outputs": []
    },
    {
      "cell_type": "markdown",
      "source": [
        "##### 1. Why did you pick the specific chart?"
      ],
      "metadata": {
        "id": "oNjOlXkbpwkn"
      }
    },
    {
      "cell_type": "markdown",
      "source": [
        " the countplot is a suitable choice for visualizing the distribution of shows/movies added to Netflix each year. It effectively presents the frequency of content additions for each year and enables easy comparison and interpretation of the data."
      ],
      "metadata": {
        "id": "RyWFkeX2pwkn"
      }
    },
    {
      "cell_type": "markdown",
      "source": [
        "##### 2. What is/are the insight(s) found from the chart?"
      ],
      "metadata": {
        "id": "YOEy7sQlpwko"
      }
    },
    {
      "cell_type": "markdown",
      "source": [
        "- Rapid Growth in Recent Years: The years 2019 and 2020 saw the highest numbers of content additions, with 2153 and 2009 shows/movies added, respectively. This indicates a period of rapid growth for Netflix's content library in recent years.\n",
        "\n",
        "- Continued Expansion: Following 2019 and 2020, the year 2018 also had a substantial number of content additions, with 1685 shows/movies added. This suggests that Netflix's content expansion efforts have been consistent over multiple years.\n",
        "\n",
        "- Steady Growth: The years 2017 and 2016 also had significant numbers of content additions, with 1225 and 443 shows/movies added, respectively. This indicates steady growth in Netflix's content library during those years.\n",
        "\n",
        "- Recent Decline: In 2021, the number of content additions dropped to 117 shows/movies. While this could indicate a slowdown, it's important to note that the data might not be complete for the entire year, and trends can change throughout the year.\n",
        "\n",
        "- Early Years: The years 2014 and earlier had lower numbers of content additions, suggesting that Netflix's content library was smaller in its early years of operation."
      ],
      "metadata": {
        "id": "WGn77Z7Vpwko"
      }
    },
    {
      "cell_type": "markdown",
      "source": [
        "##### 3. Will the gained insights help creating a positive business impact?\n",
        "Are there any insights that lead to negative growth? Justify with specific reason."
      ],
      "metadata": {
        "id": "e3DQR-Xopwkp"
      }
    },
    {
      "cell_type": "markdown",
      "source": [
        "**Positive Business Impact:**\n",
        "\n",
        "* Content Library Growth: The rapid growth in content additions in recent years (2019 and 2020) indicates that Netflix is actively investing in expanding its content library. This can have a positive impact on user engagement, attracting new subscribers and retaining existing ones.\n",
        "\n",
        "* Subscriber Retention: Consistent content additions over multiple years (2017, 2018) contribute to subscriber satisfaction and retention. A diverse and growing content library can encourage users to stay subscribed.\n",
        "\n",
        "* Competitive Edge: Regular content updates give Netflix a competitive edge by offering a wider variety of content compared to competitors. This can attract viewers looking for a comprehensive entertainment experience.\n",
        "\n",
        "* Market Penetration: High content additions in recent years indicate Netflix's efforts to penetrate and capture a larger share of the global streaming market.\n",
        "\n",
        "* Original Content Strategy: The growth in content additions aligns with Netflix's strategy of producing original content. Original shows and movies can generate brand loyalty and exclusivity.\n",
        "\n",
        "**Potential Negative Impact:**\n",
        "\n",
        "* Decline in Content Quality: A sudden drop in content additions in 2021 might suggest a decline in content quality or a shift in content strategy. If content additions continue to decrease, it could lead to viewer dissatisfaction and churn.\n",
        "\n",
        "* Subscription Attrition: A decline in content additions might result in users seeking content elsewhere, leading to subscription attrition or reduced acquisition of new subscribers.\n",
        "\n",
        "* Saturation Effect: Oversaturation of the content library can overwhelm viewers, making it difficult for them to choose what to watch. This could lead to viewer frustration and potentially reduced engagement.\n",
        "\n",
        "* Missed Opportunities: A lower number of content additions in earlier years might indicate missed opportunities to capture early adopters and establish a larger subscriber base from the beginning.\n",
        "\n",
        "* Increased Competition: If other streaming platforms continue to invest heavily in content additions, Netflix's reduced growth could lead to increased competition for viewer attention.\n",
        "\n",
        "* Lack of Freshness: A low number of content additions might result in a lack of freshness in the content library, potentially leading to viewer fatigue and decreased engagement."
      ],
      "metadata": {
        "id": "kK0Hp_7npwkp"
      }
    },
    {
      "cell_type": "markdown",
      "source": [
        "### BIVARIATE ANALYSIS"
      ],
      "metadata": {
        "id": "4U-Q3ow6orAk"
      }
    },
    {
      "cell_type": "markdown",
      "source": [
        "#### Chart - 8: Rating based on rating system of all TV Shows and movies?"
      ],
      "metadata": {
        "id": "fTCbHZhkpwkq"
      }
    },
    {
      "cell_type": "code",
      "source": [
        "# Chart - 8 visualization code\n",
        "\n",
        "# Rating vs. Type (Grouped bar chart)\n",
        "plt.figure(figsize=(10, 6))\n",
        "sns.countplot(x=\"rating\", hue=\"type\", data=netflix_df)\n",
        "plt.title(\"Rating vs. Type\")\n",
        "plt.xlabel(\"Rating\")\n",
        "plt.ylabel(\"Count\")\n",
        "plt.legend(title=\"Type\")\n",
        "\n",
        "# Print count values on the bars\n",
        "ax = plt.gca()\n",
        "for p in ax.patches:\n",
        "    ax.annotate(f'{p.get_height()}', (p.get_x() + p.get_width() / 2., p.get_height()),\n",
        "                ha='center', va='center', fontsize=10, color='black', xytext=(0, 5),\n",
        "                textcoords='offset points')\n",
        "plt.show()"
      ],
      "metadata": {
        "id": "dtkLmH2ipwkq"
      },
      "execution_count": null,
      "outputs": []
    },
    {
      "cell_type": "markdown",
      "source": [
        "##### 1. Why did you pick the specific chart?"
      ],
      "metadata": {
        "id": "6ky6u5Grpwkr"
      }
    },
    {
      "cell_type": "markdown",
      "source": [
        "The countplot is a type of bar plot that is specifically designed to show the count of occurrences of a categorical variable. It is particularly useful when you want to visualize the distribution of categorical data and compare the frequency of different categories."
      ],
      "metadata": {
        "id": "SyqzcdYVpwkr"
      }
    },
    {
      "cell_type": "markdown",
      "source": [
        "##### 2. What is/are the insight(s) found from the chart?"
      ],
      "metadata": {
        "id": "LwdgEF-gpwks"
      }
    },
    {
      "cell_type": "markdown",
      "source": [
        "* For the \"Adults\" rating, there are significantly more movies (2595) compared to TV shows (1025). However, for the \"Teens\" rating, there are only movies (386) and no TV shows.\n",
        "* The \"Young Adults\" rating has a relatively balanced distribution between movies (1272) and TV shows (659), indicating a diverse range of content for this category.\n",
        "\n",
        "* For the \"Older Kids\" and \"Kids\" ratings, there are more movies than TV shows, with \"Older Kids\" having 852 movies and 478 TV shows, and \"Kids\" having 267 movies and 246 TV shows."
      ],
      "metadata": {
        "id": "d9eeFHdnpwks"
      }
    },
    {
      "cell_type": "markdown",
      "source": [
        "##### 3. Will the gained insights help creating a positive business impact?\n",
        "Are there any insights that lead to negative growth? Justify with specific reason."
      ],
      "metadata": {
        "id": "ktzYtpybpwks"
      }
    },
    {
      "cell_type": "markdown",
      "source": [
        "**Positive Impacts:**\n",
        "\n",
        "1. Dominant Content Types: The insight that certain content ratings are dominant in specific content types (e.g., \"Adults\" rating having more movies) can help Netflix allocate resources more effectively. For example, producing more content within popular rating categories could attract and retain subscribers who prefer those ratings, leading to positive growth.\n",
        "\n",
        "2. Balanced Distribution: The balanced distribution of the \"Young Adults\" rating between movies and TV shows indicates that there's a diverse audience within that age group. Offering a variety of content types can lead to higher engagement and satisfaction among different segments of viewers.\n",
        "\n",
        "**Negative Impacts:**\n",
        "\n",
        "1. Limited TV Shows for Certain Ratings: The absence of TV shows for the \"Teens\" rating might result in a missed opportunity to attract younger viewers looking for TV show content. This could lead to negative growth in the teenage demographic if not addressed.\n",
        "\n",
        "2. Children's Content: The higher count of movies compared to TV shows in the \"Older Kids\" and \"Kids\" categories might limit the options available to younger audiences who prefer TV shows. This could result in negative growth among families seeking TV show content for children."
      ],
      "metadata": {
        "id": "7aqAoGp9pwkt"
      }
    },
    {
      "cell_type": "markdown",
      "source": [
        "#### Chart - 9: Season-wise distribution of tv shows."
      ],
      "metadata": {
        "id": "9sab5Xagpwkt"
      }
    },
    {
      "cell_type": "code",
      "source": [
        "# Chart - 9 visualization code\n",
        "\n",
        "tv_df = netflix_df[netflix_df['type']=='TV Show']\n",
        "tv_df['duration'].value_counts()\n",
        "\n",
        "tv=tv_df['duration'].value_counts().T.reset_index()\n",
        "\n",
        "fig = px.pie(tv,values='duration',names='index',color_discrete_sequence=px.colors.sequential.Greens)\n",
        "fig.update_layout(title=\"season-wise distribution of tv shows\")\n",
        "fig.update_traces(textposition='inside', textinfo='percent+label', textfont_size=20,\n",
        "                  marker=dict( line=dict(color = 'RebeccaPurple', width=2)))"
      ],
      "metadata": {
        "id": "PpyHP4Klpwku"
      },
      "execution_count": null,
      "outputs": []
    },
    {
      "cell_type": "markdown",
      "source": [
        "##### 1. Why did you pick the specific chart?"
      ],
      "metadata": {
        "id": "U_2kx43Fpwku"
      }
    },
    {
      "cell_type": "markdown",
      "source": [
        "a pie chart is a suitable choice for visualizing the distribution of TV shows on Netflix based on the number of seasons. It effectively conveys the proportion of TV shows within each season category and allows viewers to compare these proportions visually."
      ],
      "metadata": {
        "id": "AmSW9PUOpwkv"
      }
    },
    {
      "cell_type": "markdown",
      "source": [
        "##### 2. What is/are the insight(s) found from the chart?"
      ],
      "metadata": {
        "id": "3s7IlSrupwkv"
      }
    },
    {
      "cell_type": "markdown",
      "source": [
        "1. Diverse Content Strategy: Netflix has a diverse content strategy that includes a mix of single-season shows and multi-season shows. This strategy allows them to cater to a wide range of viewer preferences and consumption habits.\n",
        "\n",
        "2. Emphasis on Shorter Formats: The dominance of single-season shows suggests that Netflix invests in producing shorter formats like mini-series and limited series. These formats might be more appealing to viewers who prefer concise storytelling.\n",
        "\n",
        "3. Variety in Multi-Season Shows: The presence of multi-season shows in different ranges (2-3, 4-6, etc.) indicates that Netflix offers a variety of ongoing series and shows that explore longer story arcs.\n",
        "\n",
        "4. Viewer Engagement with Long-Running Shows: Although rare, the presence of TV shows with higher numbers of seasons suggests that there are shows on Netflix that have managed to maintain viewer engagement over a significant period.\n",
        "\n",
        "5. Impact of Production and Costs: The decreasing frequency as the number of seasons increases could be influenced by production costs and viewer engagement. Longer-running shows require sustained resources and consistent audience interest.\n",
        "\n",
        "6. Balance between Quantity and Quality: The distribution might reflect Netflix's approach to balance the quantity of content with the quality of storytelling. This can ensure that both shorter and longer shows maintain a certain level of engagement and production value.\n",
        "\n",
        "7. Changing Viewer Preferences: The gaps in the distribution might indicate changing viewer preferences. The absence of mid-range shows (7-9 seasons) could be due to viewer interest shifting toward shorter or longer formats."
      ],
      "metadata": {
        "id": "bVi2AtIkpwkv"
      }
    },
    {
      "cell_type": "markdown",
      "source": [
        "##### 3. Will the gained insights help creating a positive business impact?\n",
        "Are there any insights that lead to negative growth? Justify with specific reason."
      ],
      "metadata": {
        "id": "Uos9FQ7xpwkw"
      }
    },
    {
      "cell_type": "markdown",
      "source": [
        "**Positive Business Impact:**\n",
        "\n",
        "1. Content Diversity: The diverse distribution of TV shows across different numbers of seasons indicates that Netflix is catering to a wide range of viewer preferences. This diversity can attract and retain a broader audience, leading to positive business impact.\n",
        "\n",
        "2. Viewer Engagement: The presence of TV shows with higher numbers of seasons suggests that some shows have successfully maintained viewer engagement over the long term. These engaged viewers contribute to positive word-of-mouth, loyalty, and potentially higher subscriber retention rates.\n",
        "\n",
        "3. Data-Informed Renewals: The insights gained from this distribution can inform content renewal decisions. Shows with strong engagement and consistent viewer interest can be renewed for additional seasons, leading to sustained viewer satisfaction.\n",
        "\n",
        "4. Appeal to Different Viewers: By offering both single-season and multi-season shows, Netflix can attract viewers with varying preferences. Some viewers prefer short, self-contained stories, while others enjoy longer narrative arcs.\n",
        "\n",
        "5. Platform Stickiness: A diverse content library with shows of different lengths can make Netflix more \"sticky\" for subscribers. Subscribers might stay engaged for a longer time as they explore a variety of content.\n",
        "\n",
        "**Potential Negative Impact:**\n",
        "\n",
        "1. Overemphasis on Short Formats: If Netflix focuses excessively on producing single-season shows, it could result in a lack of long-running, ongoing series. This might lead to viewer dissatisfaction if subscribers are seeking shows with more extended storylines.\n",
        "\n",
        "2. Content Fatigue: A skewed distribution with a majority of single-season shows might lead to content fatigue, as viewers may find it challenging to invest in shorter formats repeatedly. This could potentially impact viewer engagement and retention.\n",
        "\n",
        "3. Risk of Abandoning Shows: If Netflix doesn't renew shows with potential for longevity, it might miss out on cultivating dedicated fan bases and long-term viewer engagement. Prematurely discontinuing shows could lead to subscriber disappointment."
      ],
      "metadata": {
        "id": "LILo3Z_4pwkw"
      }
    },
    {
      "cell_type": "markdown",
      "source": [
        "#### Chart - 10: Top 10 Directors directed in Movies and TV Shows."
      ],
      "metadata": {
        "id": "t796-cQZpwkx"
      }
    },
    {
      "cell_type": "code",
      "source": [
        "# Chart - 10 visualization code\n",
        "# Top 10 Directors in Movies and TV Shows\n",
        "df_movies= netflix_df[netflix_df['type']== 'Movie']\n",
        "df_tvshows= netflix_df[netflix_df['type']== 'TV Show']\n",
        "plt.figure(figsize=(23,8))\n",
        "for i,j,k in ((df_movies, 'Movies',0),(df_tvshows, 'TV Shows',1)):\n",
        "  plt.subplot(1,2,k+1)\n",
        "  df_director = i.groupby(['director']).agg({'title':'nunique'}).reset_index().sort_values(by=['title'],ascending=False)[1:10]\n",
        "  plots= sns.barplot(y = \"director\",x = 'title', data = df_director, palette='Paired')\n",
        "  plt.title(f'Directors appeared in most of the {j}')\n",
        "  plt.grid(linestyle='--', linewidth=0.3)\n",
        "  plots.bar_label(plots.containers[0])\n",
        "plt.show()"
      ],
      "metadata": {
        "id": "foN4BZyLpwkx"
      },
      "execution_count": null,
      "outputs": []
    },
    {
      "cell_type": "markdown",
      "source": [
        "##### 1. Why did you pick the specific chart?"
      ],
      "metadata": {
        "id": "cSp8in6Ipwky"
      }
    },
    {
      "cell_type": "markdown",
      "source": [
        "the horizontal bar chart with subplots is a visually effective way to compare and contrast the top directors in both TV shows and movies, offering insights into their contributions to Netflix's content library across different categories."
      ],
      "metadata": {
        "id": "nJg-vsvepwky"
      }
    },
    {
      "cell_type": "markdown",
      "source": [
        "##### 2. What is/are the insight(s) found from the chart?"
      ],
      "metadata": {
        "id": "_wY8FB5Jpwkz"
      }
    },
    {
      "cell_type": "markdown",
      "source": [
        "**Top 10 Directors of TV Shows:**\n",
        "\n",
        "1. Diverse Directorship: The top directors for TV shows vary in terms of the number of shows directed. The highest count is 3 shows directed by Alastair Fothergill, while others have directed 2 shows each.\n",
        "\n",
        "2. Variety in Content: The variety in the names of the top TV show directors suggests that there isn't a single director who dominates the TV show category. This indicates a diverse range of directors contributing to Netflix's TV show offerings.\n",
        "\n",
        "3. Documentaries and Series: Directors like Alastair Fothergill and Ken Burns are known for documentaries, which might be contributing to their high directorship counts.\n",
        "\n",
        "4. Continuity in Series: Directors like Shin Won-ho, Iginio Straffi, and Rob Seidenglanz have directed multiple shows, possibly indicating a continuation of a successful series or franchise.\n",
        "\n",
        "**Top 10 Directors of Movies:**\n",
        "\n",
        "1. Highly Prolific Directors: The top directors for movies have directed a significant number of films. Raúl Campos and Jan Suter have directed the highest count of 18 movies, followed closely by directors like Marcus Raboy and Jay Karas.\n",
        "\n",
        "2. Comedy and Stand-Up: Directors like Marcus Raboy, Jay Karas, and Jay Chapman are known for directing comedy content, including stand-up specials.\n",
        "\n",
        "3. Diverse Genres: The presence of directors like Cathy Garcia-Molina and Youssef Chahine suggests a diverse range of movie genres, potentially including romance, drama, and international films.\n",
        "\n",
        "4. Renowned Filmmakers: Directors like Martin Scorsese and Steven Spielberg, who are renowned in the film industry, are also among the top directors. This might indicate collaborations with Netflix for original films.\n",
        "\n",
        "5. Variety in Directing Style: The list includes directors with varying styles and backgrounds, contributing to Netflix's diverse movie portfolio."
      ],
      "metadata": {
        "id": "hCzgjU3gpwkz"
      }
    },
    {
      "cell_type": "markdown",
      "source": [
        "##### 3. Will the gained insights help creating a positive business impact?\n",
        "Are there any insights that lead to negative growth? Justify with specific reason."
      ],
      "metadata": {
        "id": "un4I3e3ppwk0"
      }
    },
    {
      "cell_type": "markdown",
      "source": [
        "**Positive Business Impact:**\n",
        "\n",
        "1. Diverse Content Portfolio: Collaborating with a diverse set of directors who specialize in different genres, styles, and formats can enhance Netflix's content portfolio. This diversity can attract a wider audience, leading to increased engagement and potentially more subscribers.\n",
        "\n",
        "2. Renowned Filmmakers: Collaborating with renowned filmmakers like Martin Scorsese and Steven Spielberg can elevate the platform's prestige and attract subscribers seeking high-quality content from respected directors.\n",
        "\n",
        "3. Prolific Directors: Directors who have directed a significant number of movies or TV shows can contribute to a consistent stream of fresh content. This frequent release of content can maintain subscriber interest and engagement.\n",
        "\n",
        "4. Catering to Audience Preferences: By having a mix of directors specializing in comedy, drama, documentaries, and other genres, Netflix can cater to the diverse preferences of its global audience.\n",
        "\n",
        "**Potential Negative Impact:**\n",
        "\n",
        "1. Overemphasis on Quantity: While having prolific directors can result in a large quantity of content, an overemphasis on quantity over quality might lead to content fatigue among subscribers. Quality control and viewer satisfaction could be compromised.\n",
        "\n",
        "2. Lack of Focus: Collaborating with too many directors might lead to a lack of a coherent content strategy. A broad spectrum of content could lack a unifying brand identity, potentially leading to viewer confusion.\n",
        "\n",
        "3. Risk of Exclusivity: Relying heavily on a few renowned directors might make the platform dependent on their availability and schedules. If these directors choose to work with other platforms or studios, Netflix could face content gaps.\n",
        "\n",
        "4. Niche Versus Mainstream: Depending on the mix of directors, Netflix might lean more towards niche content or mainstream blockbusters. Striking a balance is crucial to cater to a wide range of audience segments.\n",
        "\n",
        "5. Disproportionate Focus: If a small group of directors dominates the content library, it might overshadow emerging talent and innovative storytelling, limiting the platform's ability to discover and promote new voices.\n",
        "\n",
        "6. Limited Originality: Overreliance on certain directors might lead to a lack of originality in content, potentially resulting in repetitive themes and narratives."
      ],
      "metadata": {
        "id": "lVD7_Qsrpwk0"
      }
    },
    {
      "cell_type": "markdown",
      "source": [
        "#### Chart - 11: top 10 actors in tv shows/movies."
      ],
      "metadata": {
        "id": "fSJBVj5hpwk1"
      }
    },
    {
      "cell_type": "code",
      "source": [
        "# Chart - 11 visualization code\n",
        "\n",
        "# Filter out rows with 'unknown' cast entries\n",
        "filtered_netflix_df = netflix_df[~netflix_df['cast'].str.contains('unknown', case=False, na=False)]\n",
        "fig,ax = plt.subplots(1,2, figsize=(14,5))\n",
        "\n",
        "# seperating TV shows actor from cast column\n",
        "top_TVshows_actor = filtered_netflix_df[filtered_netflix_df['type']=='TV Show']['cast'].str.split(', ', expand=True).stack()\n",
        "# plotting actor who appeared in highest number of TV Show\n",
        "a = top_TVshows_actor.value_counts().head(10).plot(kind='barh', ax=ax[0])\n",
        "a.set_title('Top 10 TV shows actors', size=15)\n",
        "\n",
        "# seperating movie actor from cast column\n",
        "top_movie_actor = filtered_netflix_df[filtered_netflix_df['type']=='Movie']['cast'].str.split(', ', expand=True).stack()\n",
        "# plotting actor who appeared in highest number of Movie\n",
        "b = top_movie_actor.value_counts().head(10).plot(kind='barh', ax=ax[1])\n",
        "b.set_title('Top 10 Movie actors', size=15)\n",
        "\n",
        "plt.tight_layout(pad=1.2, rect=[0, 0, 0.95, 0.95])\n",
        "plt.show()"
      ],
      "metadata": {
        "id": "iGUavZAdpwk1"
      },
      "execution_count": null,
      "outputs": []
    },
    {
      "cell_type": "markdown",
      "source": [
        "##### 1. Why did you pick the specific chart?"
      ],
      "metadata": {
        "id": "o_F_PF3apwk2"
      }
    },
    {
      "cell_type": "markdown",
      "source": [
        "the horizontal bar chart with subplots is a visually effective way to compare and contrast the top actors in both TV shows and movies on Netflix, providing insights into their level of engagement and popularity in each category."
      ],
      "metadata": {
        "id": "YVSJcUwgpwk2"
      }
    },
    {
      "cell_type": "markdown",
      "source": [
        "##### 2. What is/are the insight(s) found from the chart?"
      ],
      "metadata": {
        "id": "ijG8UtDepwk3"
      }
    },
    {
      "cell_type": "markdown",
      "source": [
        "**Top 10 TV Show Actors:**\n",
        "\n",
        "1. Japanese Voice Actors: The presence of Japanese voice actors like Takahiro Sakurai, Yuki Kaji, Daisuke Ono, and Ai Kayano among the top TV show actors suggests that anime content is well-represented on Netflix.\n",
        "\n",
        "2. Dubbed Content: The high number of appearances by these voice actors could indicate the popularity of dubbed anime content on the platform.\n",
        "\n",
        "3. Frequent Collaborations: Junichi Suwabe, Yoshimasa Hosoya, and Yuichi Nakamura are among the top actors, indicating frequent collaborations with the platform or consistent roles in TV shows.\n",
        "\n",
        "4. Diverse Genres: While some of these actors are known for anime, their diverse appearances could mean they are involved in a range of genres beyond animation.\n",
        "\n",
        "**Top 10 Movie Actors:**\n",
        "\n",
        "1. Bollywood Dominance: The list of top movie actors is dominated by Bollywood stars like Shah Rukh Khan, Akshay Kumar, and Amitabh Bachchan. This suggests a strong presence of Indian cinema on Netflix.\n",
        "\n",
        "2. Indian Cinema Showcase: The high counts for actors like Anupam Kher, Om Puri, Naseeruddin Shah, and Paresh Rawal highlight the platform's focus on showcasing classic and contemporary Indian cinema.\n",
        "\n",
        "3. Versatile Actors: These actors have appeared in a variety of genres, showcasing their versatility in Indian cinema.\n",
        "\n",
        "4. Global Reach of Bollywood: The popularity of these actors indicates that Bollywood films have a global audience on Netflix."
      ],
      "metadata": {
        "id": "yzN-ffaEpwk4"
      }
    },
    {
      "cell_type": "markdown",
      "source": [
        "##### 3. Will the gained insights help creating a positive business impact?\n",
        "Are there any insights that lead to negative growth? Justify with specific reason."
      ],
      "metadata": {
        "id": "eP9rm4chpwk4"
      }
    },
    {
      "cell_type": "markdown",
      "source": [
        "**Positive Business Impact:**\n",
        "\n",
        "1. Catering to Diverse Audiences: The presence of both Japanese voice actors and Bollywood stars indicates that Netflix is successfully catering to a diverse global audience. This diverse approach can attract and retain subscribers from various regions.\n",
        "\n",
        "2. Audience Engagement: High appearances by certain actors suggest that these actors have a dedicated fan base. Featuring them in more content can increase viewer engagement and potentially attract new subscribers.\n",
        "\n",
        "3. Regional Content Focus: The presence of Bollywood actors highlights Netflix's focus on regional content, particularly Indian cinema. This can lead to increased subscription rates from regions with a strong interest in Indian movies.\n",
        "\n",
        "4. Collaborations and Partnerships: Consistent appearances by specific actors might indicate successful collaborations or partnerships with production houses and studios associated with these actors. Such collaborations can result in high-quality content and positive viewer reception.\n",
        "\n",
        "**Potential Negative Impact:**\n",
        "\n",
        "1. Overreliance on Specific Actors: An overemphasis on a few actors, especially in terms of high appearances, might lead to viewer fatigue. The audience might start perceiving the platform as repetitive or lacking in variety.\n",
        "\n",
        "2. Limited Exploration: Focusing heavily on certain actors can limit the exploration of new and emerging talent. This can impact the platform's ability to discover fresh voices and innovative storytelling.\n",
        "\n",
        "3. Cultural Balance: While featuring diverse actors is positive, if certain regions or cultural backgrounds are consistently underrepresented, it can lead to dissatisfaction among those specific audiences.\n",
        "\n",
        "4. Risk of Overexposure: Overusing certain actors might lead to oversaturation in the market. Viewers might become less excited about their appearances, resulting in a decrease in engagement.\n",
        "\n",
        "5. Competitive Challenges: Relying heavily on specific actors might limit the platform's ability to compete with other streaming services that have their own exclusive content deals with those actors.\n",
        "\n",
        "6. Long-Term Engagement: While featuring popular actors can attract initial interest, the long-term success of a platform depends on a diverse range of factors, including content variety, quality, and viewer experience.\n",
        "\n",
        "7. Cultural Authenticity: In the case of regional actors, maintaining cultural authenticity and sensitively addressing cultural nuances becomes crucial to avoid negative reactions from specific audience groups."
      ],
      "metadata": {
        "id": "RdyEzCX1pwk5"
      }
    },
    {
      "cell_type": "markdown",
      "source": [
        "#### Chart - 12: Total number of Movies/TV Shows released and added per year on Netflix?"
      ],
      "metadata": {
        "id": "WrYwbYLUpwk6"
      }
    },
    {
      "cell_type": "code",
      "source": [
        "# Chart - 12 visualization code\n",
        "\n",
        "plt.figure(figsize=(20,6))\n",
        "for i,j,k in ((df_movies, 'Movies',0),(df_tvshows, 'TV Shows',1)):\n",
        "  plt.subplot(1,2,k+1)\n",
        "  df_release_year = i.groupby(['release_year']).agg({'title':'nunique'}).reset_index().sort_values(by=['release_year'],ascending=False)[:14]\n",
        "  plots= sns.barplot(x = 'release_year',y= 'title', data = df_release_year, palette='husl')\n",
        "  plt.title(f'{j} released by year')\n",
        "  plt.ylabel(f\"Number of {j} released\")\n",
        "  plt.grid(linestyle='--', linewidth=0.3)\n",
        "\n",
        "  for bar in plots.patches:\n",
        "     plots.annotate(bar.get_height(),\n",
        "                    (bar.get_x() + bar.get_width() / 2,\n",
        "                     bar.get_height()), ha='center', va='center',\n",
        "                    size=12, xytext=(0, 8),\n",
        "                    textcoords='offset points')\n",
        "plt.show()\n",
        "\n",
        "plt.figure(figsize=(20,6))\n",
        "for i,j,k in ((df_movies, 'Movies',0),(df_tvshows, 'TV Shows',1)):\n",
        "  plt.subplot(1,2,k+1)\n",
        "  df_country = i.groupby(['year_added']).agg({'title':'nunique'}).reset_index().sort_values(by=['year_added'],ascending=False)\n",
        "  plots= sns.barplot(x = 'year_added',y= 'title', data = df_country, palette='husl')\n",
        "  plt.title(f'{j} added to Netflix by year')\n",
        "  plt.ylabel(f\"Number of {j} added on Netflix\")\n",
        "  plt.grid(linestyle='--', linewidth=0.3)\n",
        "\n",
        "  for bar in plots.patches:\n",
        "     plots.annotate(bar.get_height(),\n",
        "                    (bar.get_x() + bar.get_width() / 2,\n",
        "                     bar.get_height()), ha='center', va='center',\n",
        "                    size=12, xytext=(0, 8),\n",
        "                    textcoords='offset points')\n",
        "plt.show()"
      ],
      "metadata": {
        "id": "TzRqqZ9Dpwk7"
      },
      "execution_count": null,
      "outputs": []
    },
    {
      "cell_type": "markdown",
      "source": [
        "##### 1. Why did you pick the specific chart?"
      ],
      "metadata": {
        "id": "egEE2NqZpwk8"
      }
    },
    {
      "cell_type": "markdown",
      "source": [
        "Together, the histogram and countplot provide a comprehensive view of the distribution of content release years and the composition of content types over time. They allow for easy comparison, identification of patterns, and the extraction of meaningful insights about Netflix's content strategy and audience preferences."
      ],
      "metadata": {
        "id": "63dlCosppwk8"
      }
    },
    {
      "cell_type": "markdown",
      "source": [
        "##### 2. What is/are the insight(s) found from the chart?"
      ],
      "metadata": {
        "id": "GN_TxMXUpwk9"
      }
    },
    {
      "cell_type": "markdown",
      "source": [
        "**Distribution of Release Years:**\n",
        "\n",
        "* The output provides a list of release years along with the corresponding counts of content released in each year.\n",
        "\n",
        "* The years with the highest number of content releases are concentrated in the recent years, particularly from 2016 to 2020, for both TV shows and movies.\n",
        "\n",
        "* There's a clear trend of increasing content production in recent years, which is likely influenced by the rise of streaming platforms and original content creation.\n",
        "\n",
        "**TV Shows Released in Top 15 Years:**\n",
        "\n",
        "* The output shows the number of TV shows released in the top 15 years.\n",
        "\n",
        "* The highest number of TV shows were released in the year 2020, followed closely by 2019 and 2018. This suggests that recent years have seen a surge in TV show releases.\n",
        "\n",
        "**Movies Released in Top 15 Years:**\n",
        "\n",
        "* The output also displays the number of movies released in the top 15 years.\n",
        "\n",
        "* Similar to TV shows, the highest number of movies were released in the year 2017, followed by 2018, 2016, and 2019.\n",
        "\n",
        "* This indicates a trend of increased movie production in recent years as well.\n"
      ],
      "metadata": {
        "id": "LBLHyBpSpwk-"
      }
    },
    {
      "cell_type": "markdown",
      "source": [
        "##### 3. Will the gained insights help creating a positive business impact?\n",
        "Are there any insights that lead to negative growth? Justify with specific reason."
      ],
      "metadata": {
        "id": "5G8fiN_gpwk_"
      }
    },
    {
      "cell_type": "markdown",
      "source": [
        "**Positive Business Impact:**\n",
        "\n",
        "1. Increased Content Production: The trend of increasing content releases, especially in recent years, suggests that Netflix is actively investing in content creation. This can have a positive impact by attracting and retaining subscribers who have a wide variety of options to choose from.\n",
        "\n",
        "2. Emphasis on Original Content: The growth in content production aligns with Netflix's strategy of focusing on original content. Original shows and movies can help differentiate the platform from competitors and provide exclusive content that subscribers can't find elsewhere.\n",
        "\n",
        "3. Variety of Genres: The diverse range of genres, including dramas, comedies, documentaries, and more, caters to various audience preferences. This approach can attract a larger and more diverse subscriber base.\n",
        "\n",
        "4. Catering to Global Audiences: The presence of international TV shows and movies indicates Netflix's effort to cater to global audiences, expanding its reach beyond its home market.\n",
        "\n",
        "5. Growing TV Show and Movie Library: The insights about TV shows and movies released in the top 15 years show that Netflix is continuously building a substantial library. This library growth is crucial for maintaining user engagement and subscriber retention.\n",
        "\n",
        "**Insights That Lead to Negative Growth:**\n",
        "\n",
        "There are no insights from the provided data that directly lead to negative growth. However, it's essential to consider potential challenges:\n",
        "\n",
        "1. Quality vs. Quantity: While increased content production is positive, maintaining quality is crucial. A large volume of content doesn't necessarily translate to a positive impact if the quality of the content is compromised. Negative feedback on content quality could lead to subscriber dissatisfaction.\n",
        "\n",
        "2. Oversaturation and Viewer Fatigue: An excessive number of releases, especially if they are not well-promoted or if there is content fatigue, could lead to viewers feeling overwhelmed. This could result in reduced viewer engagement or even unsubscribing.\n",
        "\n",
        "3. Market Saturation: As streaming competition increases, the market becomes more saturated. While Netflix is currently a leader, the potential saturation of the market could lead to challenges in acquiring new subscribers.\n",
        "\n",
        "4. Cannibalization: If there's not enough differentiation between various shows and movies, subscribers might opt for content from other platforms. This could lead to internal competition among Netflix's own offerings.\n",
        "\n",
        "5. Budget Constraints: High production costs can strain the budget, especially if content isn't generating expected returns. This could impact the financial health of the company."
      ],
      "metadata": {
        "id": "V1wS7Aenpwk_"
      }
    },
    {
      "cell_type": "markdown",
      "source": [
        "#### Chart - 13: Which Countries has the highest spread of Movies and TV Shows over Netflix?"
      ],
      "metadata": {
        "id": "7cmfUiq8pwlA"
      }
    },
    {
      "cell_type": "code",
      "source": [
        "# Chart - 13 visualization code\n",
        "\n",
        "plt.figure(figsize=(18, 5))\n",
        "plt.grid(linestyle='--', linewidth=0.3)\n",
        "\n",
        "# Top 15 countries with most content\n",
        "top_countries = netflix_df['country'].value_counts().index[:15]\n",
        "sns.countplot(x=netflix_df['country'], order=top_countries, hue=netflix_df['type'], palette=\"Set1\")\n",
        "plt.xticks(rotation=50)\n",
        "plt.title('Top 15 countries with most content', fontsize=15, fontweight='bold')\n",
        "plt.legend(title='Type')\n",
        "\n",
        "plt.figure(figsize=(20, 8))\n",
        "df_movies = netflix_df[netflix_df['type'] == 'Movie']\n",
        "df_tvshows = netflix_df[netflix_df['type'] == 'TV Show']\n",
        "\n",
        "for df, content_type in [(df_movies, 'Movies'), (df_tvshows, 'TV Shows')]:\n",
        "    plt.subplot(1, 2, 1 if content_type == 'Movies' else 2)\n",
        "    df_country = df['country'].value_counts().head(10).reset_index()\n",
        "    df_country.columns = ['country', 'count']\n",
        "\n",
        "    plots = sns.barplot(y=\"country\", x='count', data=df_country, palette='Set1')\n",
        "    plt.title(f'Top 10 countries launching {content_type}', fontsize=15, fontweight='bold')\n",
        "    plt.grid(linestyle='--', linewidth=0.3)\n",
        "    for i, value in enumerate(df_country['count']):\n",
        "        plots.text(value + 10, i, str(value), ha='center', va='center')\n",
        "\n",
        "plt.tight_layout()\n",
        "plt.show()\n"
      ],
      "metadata": {
        "id": "lRzk3RYfbroa"
      },
      "execution_count": null,
      "outputs": []
    },
    {
      "cell_type": "markdown",
      "source": [
        "##### 1. Why did you pick the specific chart?"
      ],
      "metadata": {
        "id": "UDF7c5hppwlB"
      }
    },
    {
      "cell_type": "markdown",
      "source": [
        "**Top 15 Countries with Most Content - Countplot (Bar Chart):**\n",
        "The first chart uses a countplot to show the distribution of content (Movies and TV Shows) among the top 15 countries with the most content on Netflix. This chart helps us understand which countries contribute the most to Netflix's content library and allows for a quick comparison of the content types within those countries.\n",
        "\n",
        "**Top 10 Countries Launching Movies Back to Back - Bar Chart:**\n",
        "In this chart, we use a bar chart to visualize the top 10 countries that have the highest number of movies released back to back. This helps identify which countries have a consistent flow of movie releases, which can provide insights into production trends and potential partnerships with those countries.\n",
        "\n",
        "**Top 10 Countries Launching TV Shows Back to Back - Bar Chart:**\n",
        "Similar to the previous chart, this bar chart shows the top 10 countries with the highest number of TV show releases back to back. This visualization helps identify countries that are actively producing TV shows and can indicate content creation trends specific to TV shows."
      ],
      "metadata": {
        "id": "wx4ARydcpwlB"
      }
    },
    {
      "cell_type": "markdown",
      "source": [
        "##### 2. What is/are the insight(s) found from the chart?"
      ],
      "metadata": {
        "id": "iXIxICNspwlB"
      }
    },
    {
      "cell_type": "markdown",
      "source": [
        "* The United States is the clear leader in terms of content production, both for TV shows and movies. It produces more than twice as many TV shows as the runner-up, the United Kingdom, and more than 3 times as many movies as India, the second-place finisher.\n",
        "\n",
        "* India is the second-largest producer of TV shows, and it is also the fastest-growing market for content consumption. The growth of the Indian entertainment industry is being driven by a number of factors, including the increasing popularity of streaming services, the growing middle class, and the rising disposable incomes of Indians.\n",
        "\n",
        "* South Korea is a major player in the global TV show market, and it is known for its popular dramas and comedies. The Korean Wave, a term used to describe the global popularity of Korean culture, has helped to boost the visibility of South Korean TV shows around the world.\n",
        "\n",
        "* Canada is a major producer of TV shows, and it is home to many popular series, such as \"Schitt's Creek\" and \"The Handmaid's Tale\". The Canadian government provides financial support for the production of TV shows, which helps to attract foreign investment and create jobs.\n",
        "\n",
        "* China is the world's most populous country, and it has a growing appetite for content. However, the Chinese government tightly controls the media, which limits the number of foreign TV shows and movies that are available in the country."
      ],
      "metadata": {
        "id": "4kQX1gwZpwlC"
      }
    },
    {
      "cell_type": "markdown",
      "source": [
        "##### 3. Will the gained insights help creating a positive business impact?\n",
        "Are there any insights that lead to negative growth? Justify with specific reason."
      ],
      "metadata": {
        "id": "x1QPW6P8pwlC"
      }
    },
    {
      "cell_type": "markdown",
      "source": [
        "\n",
        "Yes, the gained insights can help create a positive business impact. For example, a content production company could use this information to:\n",
        "\n",
        "Identify new markets to target. For example, the data shows that India is a growing market for content consumption. A content production company could focus on producing content that is specifically tailored to the Indian market.\n",
        "Develop new strategies to attract viewers. For example, the data shows that South Korean TV shows are popular around the world. A content production company could learn from the success of South Korean TV shows and develop its own shows that have a global appeal.\n",
        "Partner with other companies in the industry. For example, a content production company could partner with a streaming service to distribute its content to a wider audience.\n",
        "However, there are also some insights that could lead to negative growth. For example, the data shows that the Chinese government tightly controls the media. This could make it difficult for content production companies to distribute their content in China. Additionally, the data shows that the global content production industry is becoming increasingly competitive. This could make it difficult for smaller content production companies to compete with the larger companies."
      ],
      "metadata": {
        "id": "E8OQ_UMwpwlD"
      }
    },
    {
      "cell_type": "markdown",
      "source": [
        "#### Chart - 14: Which Genres are Popular in Netflix?"
      ],
      "metadata": {
        "id": "5oYqNdc7YWEO"
      }
    },
    {
      "cell_type": "code",
      "source": [
        "# Chart - 14 visualization code\n",
        "\n",
        "plt.figure(figsize=(23,8))\n",
        "df_genre = df.groupby(['listed_in']).agg({'title':'nunique'}).reset_index().sort_values(by=['title'],ascending=False)[:10]\n",
        "plots= sns.barplot(y = \"listed_in\",x = 'title', data = df_genre)\n",
        "plt.title(f'Most popular genre on Netflix')\n",
        "plt.grid(linestyle='--', linewidth=0.3)\n",
        "plots.bar_label(plots.containers[0])\n",
        "plt.show()\n",
        "\n",
        "plt.figure(figsize=(23,8))\n",
        "for i,j,k in ((df_movies, 'Movies',0),(df_tvshows, 'TV Shows',1)):\n",
        "  plt.subplot(1,2,k+1)\n",
        "  df_genre = i.groupby(['listed_in']).agg({'title':'nunique'}).reset_index().sort_values(by=['title'],ascending=False)[:10]\n",
        "  plots= sns.barplot(y = \"listed_in\",x = 'title', data = df_genre, palette='Set1')\n",
        "  plt.title(f'Most popular genre of the {j}')\n",
        "  plt.grid(linestyle='--', linewidth=0.3)\n",
        "  plots.bar_label(plots.containers[0])\n",
        "  plt.yticks(rotation = 45)\n",
        "plt.show()"
      ],
      "metadata": {
        "id": "ZJ5bKzCUYWEy"
      },
      "execution_count": null,
      "outputs": []
    },
    {
      "cell_type": "markdown",
      "source": [
        "##### 1. Why did you pick the specific chart?"
      ],
      "metadata": {
        "id": "zsaYjocwYWEz"
      }
    },
    {
      "cell_type": "markdown",
      "source": [
        "bar plots are a versatile choice for visualizing categorical data with clear rankings and comparisons, making them suitable for conveying insights about the most popular genres on Netflix."
      ],
      "metadata": {
        "id": "KjKtqWi-YWE0"
      }
    },
    {
      "cell_type": "markdown",
      "source": [
        "##### 2. What is/are the insight(s) found from the chart?"
      ],
      "metadata": {
        "id": "ZqkjY1W2YWE1"
      }
    },
    {
      "cell_type": "markdown",
      "source": [
        "* The most popular genre in TV shows is international TV shows. This suggests that viewers are interested in watching content from different cultures and countries. This could be due to the increasing globalization of the world, as well as the rise of streaming services that offer a wide variety of content from around the world.\n",
        "* Crime TV shows are also popular, ranking second in the list. This could be because crime is a universal theme that appeals to viewers of all ages. Crime TV shows can also be suspenseful and exciting, which can keep viewers hooked.\n",
        "* Kids' TV is another popular genre. This is not surprising, as children are naturally drawn to stories and characters that they can relate to. Kids' TV shows can also be educational, which can help children learn about different topics.\n",
        "* British TV shows are also popular, ranking fourth in the list. This could be because British TV shows are known for their high quality and originality. British TV shows have also won numerous awards, which can help to attract viewers.\n",
        "* Documentaries are also popular, ranking fifth in the list. This suggests that viewers are interested in learning about the world around them. Documentaries can be informative and educational, and they can also be entertaining."
      ],
      "metadata": {
        "id": "HyHJDy-TYWE2"
      }
    },
    {
      "cell_type": "markdown",
      "source": [
        "##### 3. Will the gained insights help creating a positive business impact?\n",
        "Are there any insights that lead to negative growth? Justify with specific reason."
      ],
      "metadata": {
        "id": "uM13GcHuYWE3"
      }
    },
    {
      "cell_type": "markdown",
      "source": [
        "**Positive Business Impact:**\n",
        "\n",
        "1. Content Strategy: Knowing the most popular genres in both TV shows and movies allows Netflix to tailor their content acquisition and production strategies. By focusing on genres that have high popularity, they can attract and retain a larger audience.\n",
        "\n",
        "2. Audience Engagement: Producing content in the most popular genres can lead to higher audience engagement. This can result in longer viewing sessions, increased user satisfaction, and reduced churn rates.\n",
        "\n",
        "3. Marketing and Promotion: Netflix can use this information to effectively market and promote their content. Highlighting the most popular genres can attract viewers' attention and lead to increased viewership.\n",
        "\n",
        "4. Personalization: Insights into user preferences can help Netflix enhance its recommendation algorithm. By suggesting content in the genres that users are most likely to enjoy, they can create a more personalized user experience.\n",
        "\n",
        "No Insights Leading to Negative Growth:\n",
        "\n",
        "Based on the provided insights, there are no indications of insights that could lead to negative growth. However, it's important to note that relying solely on popular genres might result in overlooking niche genres that have a dedicated audience. A diverse content library catering to various interests can be crucial to maintaining a broad and engaged user base."
      ],
      "metadata": {
        "id": "rsdcjYGQYWE4"
      }
    },
    {
      "cell_type": "markdown",
      "metadata": {
        "id": "YJ55k-q6phqO"
      },
      "source": [
        "#### Chart - 15: Total Number of Movies/TV Shows added per month on Netflix."
      ]
    },
    {
      "cell_type": "code",
      "execution_count": null,
      "metadata": {
        "id": "FBCNm6jWNHhu"
      },
      "outputs": [],
      "source": [
        "plt.figure(figsize=(23,8))\n",
        "for i,j,k in ((df_movies, 'Movies',0),(df_tvshows, 'TV Shows',1)):\n",
        "  plt.subplot(1,2,k+1)\n",
        "  df_month = i.groupby(['month_added']).agg({'title':'nunique'}).reset_index().sort_values(by=['month_added'],ascending=False)\n",
        "  plots= sns.barplot(x = 'month_added',y='title', data = df_month, palette='husl')\n",
        "  plt.title(f'{j} added added to Netflix by month')\n",
        "  plt.ylabel(f\"Number of {j} added on Netflix\")\n",
        "  plt.grid(linestyle='--', linewidth=0.3)\n",
        "  for bar in plots.patches:\n",
        "     plots.annotate(bar.get_height(),\n",
        "                    (bar.get_x() + bar.get_width() / 2,\n",
        "                     bar.get_height()), ha='center', va='center',\n",
        "                    size=12, xytext=(0, 8),\n",
        "                    textcoords='offset points')\n",
        "plt.show()"
      ]
    },
    {
      "cell_type": "markdown",
      "metadata": {
        "id": "gCFgpxoyphqP"
      },
      "source": [
        "##### 1. Why did you pick the specific chart?"
      ]
    },
    {
      "cell_type": "markdown",
      "metadata": {
        "id": "TVxDimi2phqP"
      },
      "source": [
        "We have plotted this graph to know in which month the movie/tv shows added is **maximum** and in which year **minimum**."
      ]
    },
    {
      "cell_type": "markdown",
      "metadata": {
        "id": "OVtJsKN_phqQ"
      },
      "source": [
        "##### 2. What is/are the insight(s) found from the chart?"
      ]
    },
    {
      "cell_type": "markdown",
      "metadata": {
        "id": "ngGi97qjphqQ"
      },
      "source": [
        "1. We found that **October, November and December are the most popular months for TV shows addition**.\n",
        "\n",
        "2. **January, October and December are the most popular months for movie addition**.\n",
        "\n",
        "3. February is the least popular month for the movies and TV shows to be added on Netflix."
      ]
    },
    {
      "cell_type": "markdown",
      "metadata": {
        "id": "lssrdh5qphqQ"
      },
      "source": [
        "##### 3. Will the gained insights help creating a positive business impact?\n",
        "Are there any insights that lead to negative growth? Justify with specific reason."
      ]
    },
    {
      "cell_type": "markdown",
      "metadata": {
        "id": "tBpY5ekJphqQ"
      },
      "source": [
        "The insights gained can help Netflix create a positive business impact by identifying the most popular months for new content additions. This can help Netflix plan content releases during peak periods, leading to increased user engagement and retention.\n",
        "\n",
        "The insight that February is the least popular month for new content additions could potentially lead to negative growth if Netflix does not maintain a consistent flow of new content during this period. It is important for Netflix to keep its audience engaged throughout the year to avoid dissatisfaction and potential loss of subscribers."
      ]
    },
    {
      "cell_type": "markdown",
      "metadata": {
        "id": "TxsSpU_7an7u"
      },
      "source": [
        "#### Chart - 16: What is the Distribution of Duration of contents over Netflix?"
      ]
    },
    {
      "cell_type": "code",
      "execution_count": null,
      "metadata": {
        "id": "ULNvWS4xGeEd"
      },
      "outputs": [],
      "source": [
        "#Checking the distribution of Movie Durations\n",
        "plt.figure(figsize=(10,7))\n",
        "plots= sns.distplot(df_movies['duration'],kde=False, color=['green'])\n",
        "plt.title('Distplot with Normal distribution for Movies',fontweight=\"bold\")\n",
        "for bar in plots.patches:\n",
        "   plots.annotate(bar.get_height(),\n",
        "                  (bar.get_x() + bar.get_width() / 2,\n",
        "                   bar.get_height()), ha='center', va='bottom',\n",
        "                  size=7, xytext=(0, 5),\n",
        "                  textcoords='offset points', rotation=90)\n",
        "plt.show()"
      ]
    },
    {
      "cell_type": "code",
      "execution_count": null,
      "metadata": {
        "id": "xQaM9XgpVXDG"
      },
      "outputs": [],
      "source": [
        "plt.figure(figsize=(23,8))\n",
        "df_duration = df_tvshows.groupby(['duration']).agg({'title':'nunique'}).reset_index().sort_values(by=['duration'],ascending=False)\n",
        "plots= sns.barplot(x = 'duration',y='title', data = df_duration, palette='husl')\n",
        "plt.title(f'Barplot of TV Shows Duration')\n",
        "plt.ylabel(f\"Content count\")\n",
        "plt.grid(linestyle='--', linewidth=0.3)\n",
        "for bar in plots.patches:\n",
        "   plots.annotate(bar.get_height(),\n",
        "                  (bar.get_x() + bar.get_width() / 2,\n",
        "                   bar.get_height()), ha='center', va='bottom',\n",
        "                  size=12, xytext=(0, 8),\n",
        "                  textcoords='offset points', rotation=90)\n",
        "plt.show()"
      ]
    },
    {
      "cell_type": "markdown",
      "metadata": {
        "id": "kv9k2ji9AShd"
      },
      "source": [
        "##### 1. Why did you pick the specific chart?"
      ]
    },
    {
      "cell_type": "markdown",
      "metadata": {
        "id": "V34yFrSmAShe"
      },
      "source": [
        "To know the duration distribution for Movies and TV Shows on Netflix."
      ]
    },
    {
      "cell_type": "markdown",
      "metadata": {
        "id": "2O26kO1_AShe"
      },
      "source": [
        "##### 2. What is/are the insight(s) found from the chart?"
      ]
    },
    {
      "cell_type": "markdown",
      "metadata": {
        "id": "VHGstWbhSUt9"
      },
      "source": [
        "1.The histogram of the distribution of movie durations in minutes on Netflix shows that the **majority of movies on Netflix have a duration between 80 to 120 minutes. **\n",
        "\n",
        "2.The countplot of the distribution of TV show durations in seasons on Netflix shows that the most common **duration for TV shows on Netflix is one season**, followed by two seasons."
      ]
    },
    {
      "cell_type": "markdown",
      "metadata": {
        "id": "f5bFc0ENKeeT"
      },
      "source": [
        "## ***5. Hypothesis Testing***"
      ]
    },
    {
      "cell_type": "markdown",
      "metadata": {
        "id": "qTHIKkuKKeeU"
      },
      "source": [
        "### Based on your chart experiments, define three hypothetical statements from the dataset. In the next three questions, perform hypothesis testing to obtain final conclusion about the statements through your code and statistical testing."
      ]
    },
    {
      "cell_type": "markdown",
      "metadata": {
        "id": "nWFUjfACLIOq"
      },
      "source": [
        "*Hypothetical Statement 1:*\n",
        "* **Null Hypothesis**: There is no significant difference in the proportion ratings of drama movies and comedy movies on Netflix.\n",
        "\n",
        "* **Alternative Hypothesis**: There is a significant difference in the proportion ratings of drama movies and comedy movies on Netflix.\n",
        "\n",
        "*Hypothetical Statement 2:*\n",
        "* **Null Hypothesis**: The average duration of TV shows added in the year 2020 on Netflix is not significantly different from the average duration of TV shows added in the year 2021.\n",
        "\n",
        "* **Alternative Hypothesis**: The average duration of TV shows added in the year 2020 on Netflix is significantly different from the average duration of TV shows added in the year 2021.\n",
        "\n",
        "*Hypothetical Statement 3:*\n",
        "* **Null Hypothesis**: The proportion of TV shows added on Netflix that are produced in the United States is not significantly different from the proportion of movies added on Netflix that are produced in the United States.\n",
        "\n",
        "* **Alternative Hypothesis**: The proportion of TV shows added on Netflix that are produced in the United States is significantly different from the proportion of movies added on Netflix that are produced in the United States."
      ]
    },
    {
      "cell_type": "markdown",
      "metadata": {
        "id": "GHItZHK7KeeW"
      },
      "source": [
        "### Hypothetical Statement - 1"
      ]
    },
    {
      "cell_type": "markdown",
      "metadata": {
        "id": "NdVYPvTQKeeX"
      },
      "source": [
        "#### 1. State Your research hypothesis as a null hypothesis and alternate hypothesis."
      ]
    },
    {
      "cell_type": "markdown",
      "metadata": {
        "id": "TE0bGqJWYZJX"
      },
      "source": [
        "**Null Hypothesis**: There is no significant difference in the proportion ratings of drama movies and comedy movies on Netflix.\n",
        "\n",
        "**Alternative Hypothesis**: There is a significant difference in the proportion ratings of drama movies and comedy movies on Netflix."
      ]
    },
    {
      "cell_type": "markdown",
      "metadata": {
        "id": "4loLSaDOKeeY"
      },
      "source": [
        "#### 2. Perform an appropriate statistical test."
      ]
    },
    {
      "cell_type": "code",
      "execution_count": null,
      "metadata": {
        "id": "9P8HPgTPYinc"
      },
      "outputs": [],
      "source": [
        "# Perform Statistical Test to obtain P-Value\n",
        "from statsmodels.stats.proportion import proportions_ztest  #------> This function is used to perform z test of proportion.\n",
        "\n",
        "# Subset the data to only include drama and comedy movies\n",
        "subset = netflix_df[netflix_df['listed_in'].str.contains('Dramas') | df['listed_in'].str.contains('Comedies')]\n",
        "\n",
        "# Calculate the proportion of drama and comedy movies\n",
        "drama_prop = len(subset[subset['listed_in'].str.contains('Dramas')]) / len(subset)\n",
        "comedy_prop = len(subset[subset['listed_in'].str.contains('Comedies')]) / len(subset)\n",
        "\n",
        "# Set up the parameters for the z-test\n",
        "count = [int(drama_prop * len(subset)), int(comedy_prop * len(subset))]\n",
        "nobs = [len(subset), len(subset)]\n",
        "alternative = 'two-sided'\n",
        "\n",
        "# Perform the z-test\n",
        "z_stat, p_value = proportions_ztest(count=count, nobs=nobs, alternative=alternative)\n",
        "print('z-statistic: ', z_stat)\n",
        "print('p-value: ', p_value)\n",
        "\n",
        "# Set the significance level\n",
        "alpha = 0.05\n",
        "\n",
        "# Print the results of the z-test\n",
        "if p_value < alpha:\n",
        "    print(f\"Reject the null hypothesis.\")\n",
        "else:\n",
        "    print(f\"Fail to reject the null hypothesis.\")\n"
      ]
    },
    {
      "cell_type": "markdown",
      "metadata": {
        "id": "J9KUeDRv8dsR"
      },
      "source": [
        "We conclude that there is a significant difference in the proportion ratings of drama movies and comedy movies on Netflix."
      ]
    },
    {
      "cell_type": "markdown",
      "metadata": {
        "id": "I4AF31oVKeeb"
      },
      "source": [
        "##### Which statistical test have you done to obtain P-Value?"
      ]
    },
    {
      "cell_type": "markdown",
      "metadata": {
        "id": "gbhN5-V3YvXG"
      },
      "source": [
        "The statistical test we have used to obtain the P-value is the z-test for proportions.\n"
      ]
    },
    {
      "cell_type": "markdown",
      "metadata": {
        "id": "ukkWfWfwKeed"
      },
      "source": [
        "##### Why did you choose the specific statistical test?"
      ]
    },
    {
      "cell_type": "markdown",
      "metadata": {
        "id": "sH1ZV13JY1iD"
      },
      "source": [
        "The z-test for proportions was chosen because we are comparing the proportions of two categorical variables (drama movies and comedy movies) in a sample. The null hypothesis and alternative hypothesis are about the difference in proportions, and we want to determine if the observed difference in proportions is statistically significant or not. The z-test for proportions is appropriate for this situation because it allows us to compare two proportions and calculate the probability of observing the difference we see in our sample if the null hypothesis were true."
      ]
    },
    {
      "cell_type": "markdown",
      "metadata": {
        "id": "lKF2XE2KKeee"
      },
      "source": [
        "### Hypothetical Statement - 2"
      ]
    },
    {
      "cell_type": "markdown",
      "metadata": {
        "id": "bDe47AONKeef"
      },
      "source": [
        "#### 1. State Your research hypothesis as a null hypothesis and alternate hypothesis."
      ]
    },
    {
      "cell_type": "markdown",
      "metadata": {
        "id": "G2UAWR_pY9nu"
      },
      "source": [
        "**Null Hypothesis**: The average duration of TV shows added in the year 2020 on Netflix is not significantly different from the average duration of TV shows added in the year 2021.\n",
        "\n",
        "**Alternative Hypothesis**: The average duration of TV shows added in the year 2020 on Netflix is significantly different from the average duration of TV shows added in the year 2021."
      ]
    },
    {
      "cell_type": "markdown",
      "metadata": {
        "id": "1Da9X6LdKeeg"
      },
      "source": [
        "#### 2. Perform an appropriate statistical test."
      ]
    },
    {
      "cell_type": "code",
      "execution_count": null,
      "metadata": {
        "id": "2Cew5F8HZOGC"
      },
      "outputs": [],
      "source": [
        "# Perform Statistical Test to obtain P-Value\n",
        "# To test this hypothesis, we perform a two-sample t-test.\n",
        "from scipy.stats import ttest_ind\n",
        "\n",
        "# Create separate dataframes for TV shows in 2020 and 2021\n",
        "tv_2020 = netflix_df[(netflix_df['type'] == 'TV Show') & (netflix_df['release_year'] == 2020)]\n",
        "tv_2021 = netflix_df[(netflix_df['type'] == 'TV Show') & (netflix_df['release_year'] == 2021)]\n",
        "\n",
        "# Perform two-sample t-test\n",
        "t, p = ttest_ind(tv_2020['duration'].astype(int),\n",
        "                 tv_2021['duration'].astype(int), equal_var=False)\n",
        "print('t-value: ', t)\n",
        "print('p-value: ', p)\n",
        "\n",
        "# Print the results\n",
        "if p < 0.05:\n",
        "    print('Reject null hypothesis. \\nThe average duration of TV shows added in the year 2020 on Netflix is significantly different from the average duration of TV shows added in the year 2021.')\n",
        "else:\n",
        "    print('Failed to reject null hypothesis. \\nThe average duration of TV shows added in the year 2020 on Netflix is not significantly different from the average duration of TV shows added in the year 2021.')\n",
        "\n"
      ]
    },
    {
      "cell_type": "markdown",
      "metadata": {
        "id": "kzd5BzYZKeei"
      },
      "source": [
        "##### Which statistical test have you done to obtain P-Value?"
      ]
    },
    {
      "cell_type": "markdown",
      "metadata": {
        "id": "P0IH-h2jZYmo"
      },
      "source": [
        "The statistical test used to obtain the P-Value is a two-sample t-test.\n"
      ]
    },
    {
      "cell_type": "markdown",
      "metadata": {
        "id": "4Hc2hGPjKeek"
      },
      "source": [
        "##### Why did you choose the specific statistical test?"
      ]
    },
    {
      "cell_type": "markdown",
      "metadata": {
        "id": "3Q57GHNKZdNc"
      },
      "source": [
        "The two-sample t-test was chosen because we are comparing the means of two different samples (TV shows added in 2020 vs TV shows added in 2021) to determine whether they are significantly different. Additionally, we assume that the two samples have unequal variances since it is unlikely that the duration of TV shows added in 2020 and 2021 would have the exact same variance."
      ]
    },
    {
      "cell_type": "markdown",
      "metadata": {
        "id": "mAJ_XxfLKeel"
      },
      "source": [
        "### Hypothetical Statement - 3"
      ]
    },
    {
      "cell_type": "markdown",
      "metadata": {
        "id": "jfdt_n2mKeem"
      },
      "source": [
        "#### 1. State Your research hypothesis as a null hypothesis and alternate hypothesis."
      ]
    },
    {
      "cell_type": "markdown",
      "metadata": {
        "id": "jowNzetxZmzm"
      },
      "source": [
        "**Null Hypothesis**: The proportion of TV shows added on Netflix that are produced in the United States is not significantly different from the proportion of movies added on Netflix that are produced in the United States.\n",
        "\n",
        "**Alternative Hypothesis**: The proportion of TV shows added on Netflix that are produced in the United States is significantly different from the proportion of movies added on Netflix that are produced in the United States.           "
      ]
    },
    {
      "cell_type": "markdown",
      "metadata": {
        "id": "gsow7zfSKeeo"
      },
      "source": [
        "#### 2. Perform an appropriate statistical test."
      ]
    },
    {
      "cell_type": "code",
      "execution_count": null,
      "metadata": {
        "id": "CmZCi6Q85sq1"
      },
      "outputs": [],
      "source": [
        "# Perform Statistical Test to obtain P-Value\n",
        "from statsmodels.stats.proportion import proportions_ztest  #------> This function is used to perform z test of proportion.\n",
        "\n",
        "# Calculate the proportion of drama and comedy movies\n",
        "tv_proportion = np.sum(df_tvshows['country'].str.contains('United States')) / len(df_tvshows)\n",
        "movie_proportion = np.sum(df_movies['country'].str.contains('United States')) / len(df_movies)\n",
        "\n",
        "# Set up the parameters for the z-test\n",
        "count = [int(tv_proportion * len(df_tvshows)), int(movie_proportion * len(df_movies))]\n",
        "nobs = [len(df_tvshows), len(df_movies)]\n",
        "alternative = 'two-sided'\n",
        "\n",
        "# Perform the z-test\n",
        "z_stat, p_value = proportions_ztest(count=count, nobs=nobs, alternative=alternative)\n",
        "print('z-statistic: ', z_stat)\n",
        "print('p-value: ', p_value)\n",
        "\n",
        "# Set the significance level\n",
        "alpha = 0.05\n",
        "\n",
        "# Print the results of the z-test\n",
        "if p_value < alpha:\n",
        "    print(f\"Reject the null hypothesis.\")\n",
        "else:\n",
        "    print(f\"Fail to reject the null hypothesis.\")\n"
      ]
    },
    {
      "cell_type": "markdown",
      "metadata": {
        "id": "zq6xwlny6xQq"
      },
      "source": [
        "We conclude that the proportion of TV shows added on Netflix that are produced in the United States is significantly different from the proportion of movies added on Netflix that are produced in the United States."
      ]
    },
    {
      "cell_type": "markdown",
      "metadata": {
        "id": "p5fnH_xqKeeq"
      },
      "source": [
        "##### Which statistical test have you done to obtain P-Value?"
      ]
    },
    {
      "cell_type": "markdown",
      "metadata": {
        "id": "PKuLfsKtaVy_"
      },
      "source": [
        "The statistical test used to obtain P-Value is a two-sample proportion test.\n",
        "\n"
      ]
    },
    {
      "cell_type": "markdown",
      "metadata": {
        "id": "nHEI8K_GKees"
      },
      "source": [
        "##### Why did you choose the specific statistical test?"
      ]
    },
    {
      "cell_type": "markdown",
      "metadata": {
        "id": "yhkYql3Yacbf"
      },
      "source": [
        "We chose this specific statistical test because it is appropriate for comparing two proportions, and it helps us to determine whether the difference between the two proportions is due to chance or not.\n",
        "\n",
        "\n",
        "\n"
      ]
    },
    {
      "cell_type": "markdown",
      "source": [
        "## ***6. Feature Engineering & Data Pre-processing***"
      ],
      "metadata": {
        "id": "uet4FEaBsHWS"
      }
    },
    {
      "cell_type": "markdown",
      "source": [
        "### 1. Handling Missing Values"
      ],
      "metadata": {
        "id": "-tgjGuwKsHWV"
      }
    },
    {
      "cell_type": "code",
      "source": [
        "# Handling Missing Values & Missing Value Imputation\n",
        "''' we already done this in data wrangling for getting a good visualization '''"
      ],
      "metadata": {
        "id": "QQtHOgOvkQzc"
      },
      "execution_count": null,
      "outputs": []
    },
    {
      "cell_type": "markdown",
      "source": [
        "#### What all missing value imputation techniques have you used and why did you use those techniques?"
      ],
      "metadata": {
        "id": "IGu1OQ1ksHWX"
      }
    },
    {
      "cell_type": "markdown",
      "source": [
        "- The missing values in the director, cast, and country attributes can be replaced with string 'unknown' and 'No Cast'.\n",
        "- Small amount of null value percentage present in rating and date_added column, if we drop these nan values in date_added column and replace nan value in rating with mode values it will not affect that much while building the model. So, we simply drop the nan value present in  date_added columns."
      ],
      "metadata": {
        "id": "7f-FZTJvNkyd"
      }
    },
    {
      "cell_type": "markdown",
      "source": [
        "### 2. Handling Outliers"
      ],
      "metadata": {
        "id": "jo_YlpSNsHWZ"
      }
    },
    {
      "cell_type": "code",
      "source": [
        "# Handling Outliers & Outlier treatments\n",
        "# plotting graph\n",
        "fig,ax = plt.subplots(1,2, figsize=(15,5))\n",
        "\n",
        "# Display boxplot and dist plot.\n",
        "sns.distplot(x=netflix_df['release_year'], ax=ax[0])\n",
        "sns.boxplot(data=netflix_df, ax=ax[1])"
      ],
      "metadata": {
        "id": "dhmtlTCWsHWa"
      },
      "execution_count": null,
      "outputs": []
    },
    {
      "cell_type": "markdown",
      "source": [
        "##### What all outlier treatment techniques have you used and why did you use those techniques?"
      ],
      "metadata": {
        "id": "DEQRWBcksHWc"
      }
    },
    {
      "cell_type": "markdown",
      "source": [
        "- Since, the almost all of the data present in textual format except release year.\n",
        "- The data that we need to create cluster/building model are present in textual foramat. So, there is no need to perform handling outlier."
      ],
      "metadata": {
        "id": "G_PIZURFGW1O"
      }
    },
    {
      "cell_type": "markdown",
      "metadata": {
        "id": "6O8G1vf1Jxtn"
      },
      "source": [
        "### 3. Textual Data Preprocessing"
      ]
    },
    {
      "cell_type": "markdown",
      "source": [
        "#### **What is textual data preprocessing?**\n",
        "* Textual data preprocessing is the process of preparing text data for analysis or modeling. It includes a series of steps that are applied to raw text data in order to clean, organize and standardize it so that it can be easily analyzed or used as input for natural language processing or machine learning models. The preprocessing steps typically include tokenization, stop-word removal, stemming or lemmatization, lowercasing, removing punctuation, and removing numbers. The goal of textual data preprocessing is to prepare the data for further analysis and modeling by removing irrelevant information and standardizing the format of the text. This can help improve the accuracy and effectiveness of the analysis or modeling."
      ],
      "metadata": {
        "id": "MtkytIFsoJWK"
      }
    },
    {
      "cell_type": "markdown",
      "metadata": {
        "id": "blP4-cfDJxto"
      },
      "source": [
        "#### 1. Textual Columns"
      ]
    },
    {
      "cell_type": "code",
      "source": [
        "#drop unnecessary columns\n",
        "columns_to_drop = [ 'month_added', 'day_added', 'year_added']\n",
        "netflix_df.drop(columns=columns_to_drop, inplace=True)"
      ],
      "metadata": {
        "id": "zPgGetuKqhCm"
      },
      "execution_count": null,
      "outputs": []
    },
    {
      "cell_type": "code",
      "execution_count": null,
      "metadata": {
        "id": "OoYgEzTHJxto"
      },
      "outputs": [],
      "source": [
        "# Creating new feature content_detail with the help of other textual attributes\n",
        "netflix_df[\"content_detail\"]= netflix_df[\"cast\"]+\" \"+netflix_df[\"director\"]+\" \"+netflix_df[\"listed_in\"]+\" \"+netflix_df[\"type\"]+\" \"+netflix_df[\"rating\"]+\" \"+netflix_df[\"country\"]+\" \"+netflix_df[\"description\"]\n",
        "\n",
        "#checking the manipulation\n",
        "netflix_df.head(5)"
      ]
    },
    {
      "cell_type": "markdown",
      "metadata": {
        "id": "MmQkyxn7Jxto"
      },
      "source": [
        "#### 2. Lower Casing"
      ]
    },
    {
      "cell_type": "code",
      "execution_count": null,
      "metadata": {
        "id": "ywmXS6XDJxto"
      },
      "outputs": [],
      "source": [
        "# Lower Casing\n",
        "netflix_df['content_detail']= netflix_df['content_detail'].str.lower()\n",
        "\n",
        "# Checking the manipulation\n",
        "netflix_df.iloc[281,]['content_detail']"
      ]
    },
    {
      "cell_type": "markdown",
      "metadata": {
        "id": "VEWBfuIjJxto"
      },
      "source": [
        "#### 3. Removing Punctuations"
      ]
    },
    {
      "cell_type": "code",
      "execution_count": null,
      "metadata": {
        "id": "g-J0nWmcQzhr"
      },
      "outputs": [],
      "source": [
        "# function to remove punctuations\n",
        "def remove_punctuations(text):\n",
        "    '''This function is used to remove the punctuations from the given sentence'''\n",
        "    #imorting needed library\n",
        "    import string\n",
        "    # replacing the punctuations with no space, which in effect deletes the punctuation marks.\n",
        "    translator = str.maketrans('', '', string.punctuation)\n",
        "    # return the text stripped off punctuation marks\n",
        "    return text.translate(translator)"
      ]
    },
    {
      "cell_type": "code",
      "execution_count": null,
      "metadata": {
        "id": "mrMmmnyyJxtp"
      },
      "outputs": [],
      "source": [
        "# Removing Punctuations from the content_detail\n",
        "netflix_df['content_detail']= netflix_df['content_detail'].apply(remove_punctuations)\n",
        "\n",
        "# Checking the observation after manipulation\n",
        "netflix_df.iloc[281,]['content_detail']"
      ]
    },
    {
      "cell_type": "markdown",
      "metadata": {
        "id": "WMYvHJcLJxtp"
      },
      "source": [
        "#### 4. Removing URLs & Removing words and digits contain digits."
      ]
    },
    {
      "cell_type": "code",
      "execution_count": null,
      "metadata": {
        "id": "n0J7HfHJLXRP"
      },
      "outputs": [],
      "source": [
        "def remove_url_and_numbers(text):\n",
        "    '''This function is used to remove the URL's and Numbers from the given sentence'''\n",
        "    # importing needed libraries\n",
        "    import re\n",
        "    import string\n",
        "\n",
        "    # Replacing the URL's with no space\n",
        "    url_number_pattern = re.compile(r'https?://\\S+|www\\.\\S+')\n",
        "    text= re.sub(url_number_pattern,'', text)\n",
        "\n",
        "    # Replacing the digits with one space\n",
        "    text = re.sub('[^a-zA-Z]', ' ', text)\n",
        "\n",
        "    # return the text stripped off URL's and Numbers\n",
        "    return text"
      ]
    },
    {
      "cell_type": "code",
      "execution_count": null,
      "metadata": {
        "id": "OWI1jhqaJxtp"
      },
      "outputs": [],
      "source": [
        "# Remove URLs & Remove words and digits contain digits\n",
        "netflix_df['content_detail']= netflix_df['content_detail'].apply(remove_url_and_numbers)\n",
        "\n",
        "# Checking the observation after manipulation\n",
        "netflix_df.iloc[281,]['content_detail']"
      ]
    },
    {
      "cell_type": "markdown",
      "metadata": {
        "id": "CfXQMKhpJxtp"
      },
      "source": [
        "#### 5. Removing Stopwords & Removing White spaces"
      ]
    },
    {
      "cell_type": "code",
      "execution_count": null,
      "metadata": {
        "id": "pdF1Y6uzJxtp"
      },
      "outputs": [],
      "source": [
        "# Downloading stopwords\n",
        "nltk.download('stopwords')\n",
        "from nltk.corpus import stopwords\n",
        "\n",
        "# create a set of English stop words\n",
        "stop_words = set(stopwords.words('english'))\n",
        "\n",
        "# displaying stopwords\n",
        "print(stop_words)\n",
        "\n"
      ]
    },
    {
      "cell_type": "code",
      "execution_count": null,
      "metadata": {
        "id": "5pFnCAJaq-m_"
      },
      "outputs": [],
      "source": [
        "def remove_stopwords_and_whitespaces(text):\n",
        "    '''This function is used for removing the stopwords from the given sentence'''\n",
        "    text = [word for word in text.split() if not word in stopwords.words('english')]\n",
        "\n",
        "    # joining the list of words with space separator\n",
        "    text=  \" \".join(text)\n",
        "\n",
        "    # removing whitespace\n",
        "    text = re.sub(r'\\s+', ' ', text)\n",
        "\n",
        "    # return the manipulated string\n",
        "    return text"
      ]
    },
    {
      "cell_type": "code",
      "execution_count": null,
      "metadata": {
        "id": "3Rw356IlriDN"
      },
      "outputs": [],
      "source": [
        "# Remove URLs & Remove words and digits contain digits\n",
        "netflix_df['content_detail']= netflix_df['content_detail'].apply(remove_stopwords_and_whitespaces)\n",
        "\n",
        "# Checking the observation after manipulation\n",
        "netflix_df.iloc[281,]['content_detail']"
      ]
    },
    {
      "cell_type": "code",
      "execution_count": null,
      "metadata": {
        "id": "1Ztw3soHUWeI"
      },
      "outputs": [],
      "source": [
        "netflix_df['content_detail'][0]"
      ]
    },
    {
      "cell_type": "markdown",
      "metadata": {
        "id": "V31je2Z1Jxtq"
      },
      "source": [
        "#### 6. Tokenization"
      ]
    },
    {
      "cell_type": "code",
      "execution_count": null,
      "metadata": {
        "id": "iPSRfahzJxtq"
      },
      "outputs": [],
      "source": [
        "# Downloading needed libraries\n",
        "nltk.download('punkt')\n",
        "\n",
        "# Tokenization\n",
        "netflix_df['content_detail']= netflix_df['content_detail'].apply(nltk.word_tokenize)\n",
        "\n",
        "# Checking the observation after manipulation\n",
        "netflix_df.iloc[281,]['content_detail']"
      ]
    },
    {
      "cell_type": "markdown",
      "metadata": {
        "id": "g4PtWlC0Jxtq"
      },
      "source": [
        "#### 7. Text Normalization"
      ]
    },
    {
      "cell_type": "code",
      "execution_count": null,
      "metadata": {
        "id": "7D3SZvNjJxtr"
      },
      "outputs": [],
      "source": [
        "# Normalizing Text (i.e., Stemming, Lemmatization etc.)\n",
        "# Importing WordNetLemmatizer from nltk module\n",
        "from nltk.stem import WordNetLemmatizer\n",
        "\n",
        "# Creating instance for wordnet\n",
        "wordnet  = WordNetLemmatizer()"
      ]
    },
    {
      "cell_type": "code",
      "execution_count": null,
      "metadata": {
        "id": "OC3FVkVOZPIw"
      },
      "outputs": [],
      "source": [
        "def lemmatizing_sentence(text):\n",
        "    '''This function is used for lemmatizing (changing the given word into meaningfull word) the words from the given sentence'''\n",
        "    text = [wordnet.lemmatize(word) for word in text]\n",
        "\n",
        "    # joining the list of words with space separator\n",
        "    text=  \" \".join(text)\n",
        "\n",
        "    # return the manipulated string\n",
        "    return text"
      ]
    },
    {
      "cell_type": "code",
      "execution_count": null,
      "metadata": {
        "id": "2cHEpKAkZkCk"
      },
      "outputs": [],
      "source": [
        "# Downloading needed libraries\n",
        "nltk.download('averaged_perceptron_tagger')\n",
        "nltk.download('wordnet')\n",
        "\n",
        "# Rephrasing text by applying defined lemmatizing function\n",
        "netflix_df['content_detail']= netflix_df['content_detail'].apply(lemmatizing_sentence)\n",
        "\n",
        "# Checking the observation after manipulation\n",
        "netflix_df.iloc[281,]['content_detail']"
      ]
    },
    {
      "cell_type": "markdown",
      "metadata": {
        "id": "uBRvDmafJxtr"
      },
      "source": [
        "##### Which text normalization technique have you used and why?"
      ]
    },
    {
      "cell_type": "markdown",
      "metadata": {
        "id": "9gvlIvmiJxtr"
      },
      "source": [
        "We have used Lemmatization instead of Stemming for our project because:\n",
        "\n",
        "* **Lemmatization produces a more accurate base word**: Unlike Stemming, which simply removes the suffix from a word, Lemmatization looks at the meaning of the word and its context to produce a more accurate base form.\n",
        "\n",
        "* **Lemmatization can handle different inflections**: Lemmatization can handle various inflections of a word, including plural forms, verb tenses, and comparative forms, making it useful for natural language processing.\n",
        "\n",
        "* **Lemmatization produces real words**: Lemmatization always produces a real word that can be found in a dictionary, making it easier to interpret the results of text analysis.\n",
        "\n",
        "* **Lemmatization improves text understanding**: By reducing words to their base form, Lemmatization makes it easier to understand the context and meaning of a sentence.\n",
        "\n",
        "* **Lemmatization supports multiple languages**: While Stemming may only work well for English, Lemmatization is effective for many different languages, making it a more versatile text processing technique."
      ]
    },
    {
      "cell_type": "markdown",
      "metadata": {
        "id": "OTcW5-mTJxtr"
      },
      "source": [
        "#### 8. Part of speech tagging"
      ]
    },
    {
      "cell_type": "code",
      "execution_count": null,
      "metadata": {
        "id": "rYMwGT4lsodT"
      },
      "outputs": [],
      "source": [
        "# tokenize the text into words before POS Taging\n",
        "netflix_df['pos_tags'] = netflix_df['content_detail'].apply(nltk.word_tokenize).apply(nltk.pos_tag)\n",
        "\n",
        "# Checking the observation after manipulation\n",
        "netflix_df.head(5)"
      ]
    },
    {
      "cell_type": "markdown",
      "metadata": {
        "id": "7DbMD-WFJxts"
      },
      "source": [
        "#### 9. Text Vectorization"
      ]
    },
    {
      "cell_type": "code",
      "execution_count": null,
      "metadata": {
        "id": "ppV4A0pqJxts"
      },
      "outputs": [],
      "source": [
        "# Vectorizing Text\n",
        "# Importing needed libraries\n",
        "from sklearn.feature_extraction.text import TfidfVectorizer\n",
        "\n",
        "# Creating instance\n",
        "tfidfv = TfidfVectorizer(max_features=30000)        # Setting max features as 30000 to avoid RAM explosion"
      ]
    },
    {
      "cell_type": "code",
      "execution_count": null,
      "metadata": {
        "id": "Ku-olTlzlMdu"
      },
      "outputs": [],
      "source": [
        "# Fitting on TfidfVectorizer\n",
        "x= tfidfv.fit_transform(netflix_df['content_detail'])\n",
        "\n",
        "# Checking shape of the formed document matrix\n",
        "print(x.shape)"
      ]
    },
    {
      "cell_type": "markdown",
      "metadata": {
        "id": "Q3wnMzigJxts"
      },
      "source": [
        "##### Which text vectorization technique have you used and why?"
      ]
    },
    {
      "cell_type": "markdown",
      "metadata": {
        "id": "a67ZvM94Jxts"
      },
      "source": [
        "We have used TFIDF vectorization in place of BAG OF WORDS because Tf-idf vectorization takes into account the importance of each word in a document. TF-IDF also assigns higher values to rare words that are unique to a particular document, making them more important in the representation."
      ]
    },
    {
      "cell_type": "markdown",
      "metadata": {
        "id": "C7P7h4ibJxts"
      },
      "source": [
        "### 4. Dimesionality Reduction"
      ]
    },
    {
      "cell_type": "markdown",
      "metadata": {
        "id": "ScVy0rOOJxts"
      },
      "source": [
        "##### Do you think that dimensionality reduction is needed? Explain Why?"
      ]
    },
    {
      "cell_type": "markdown",
      "metadata": {
        "id": "jbOYd7sCJxtt"
      },
      "source": [
        "In textual data processing, there are 30,000 attributes are created in text vectorization and this huge amount of columns cannot be dealed with our local machines. So, we will using the Principal Component Analysis(PCA) techniques to reduce the dimensions of this huge sparse matrix."
      ]
    },
    {
      "cell_type": "code",
      "execution_count": null,
      "metadata": {
        "id": "935_YTwRJxtt"
      },
      "outputs": [],
      "source": [
        "# Dimensionality Reduction\n",
        "# Importing PCA from sklearn\n",
        "from sklearn.decomposition import PCA\n",
        "\n",
        "# Defining PCA object with desired number of components\n",
        "pca = PCA()\n",
        "\n",
        "# Fitting the PCA model\n",
        "pca.fit(x.toarray())\n",
        "\n",
        "# percent of variance captured by each component\n",
        "variance = pca.explained_variance_ratio_\n",
        "print(f\"Explained variance: {variance}\")"
      ]
    },
    {
      "cell_type": "code",
      "execution_count": null,
      "metadata": {
        "id": "D17W-_Xgii5i"
      },
      "outputs": [],
      "source": [
        "# Ploting the percent of variance captured versus the number of components in order to determine the reduced dimensions\n",
        "fig, ax = plt.subplots()\n",
        "ax.plot(range(1, len(variance)+1), np.cumsum(pca.explained_variance_ratio_))\n",
        "ax.set_xlabel('Number of Components')\n",
        "ax.set_ylabel('Percent of Variance Captured')\n",
        "ax.set_title('PCA Analysis')\n",
        "plt.grid(linestyle='--', linewidth=0.3)\n",
        "plt.show()"
      ]
    },
    {
      "cell_type": "markdown",
      "metadata": {
        "id": "ILU8o950Efg8"
      },
      "source": [
        "It is clear from the above plot that 7770 principal components can capture the 100% of variance. For our case we will consider only those number of PC's that can capture 95% of variance."
      ]
    },
    {
      "cell_type": "code",
      "execution_count": null,
      "metadata": {
        "id": "5PhVYYeX9zEH"
      },
      "outputs": [],
      "source": [
        "## Now we are passing the argument so that we can capture 95% of variance.\n",
        "# Defining instance\n",
        "pca_tuned = PCA(n_components=0.95)\n",
        "\n",
        "# Fitting and transforming the model\n",
        "pca_tuned.fit(x.toarray())\n",
        "x_transformed = pca_tuned.transform(x.toarray())\n",
        "\n",
        "# Checking the shape of transformed matrix\n",
        "x_transformed.shape"
      ]
    },
    {
      "cell_type": "markdown",
      "metadata": {
        "id": "-aBELOj8Jxtt"
      },
      "source": [
        "##### Which dimensionality reduction technique have you used and why?"
      ]
    },
    {
      "cell_type": "markdown",
      "metadata": {
        "id": "0eUrHK1oJxtt"
      },
      "source": [
        "We have used PCA (Principal Component Analysis) for dimensionality reduction. PCA is a widely used technique for reducing the dimensionality of high-dimensional data sets while retaining most of the information in the original data.\n",
        "\n",
        "PCA works by finding the principal components of the data, which are linear combinations of the original features that capture the maximum amount of variation in the data. By projecting the data onto these principal components, PCA can reduce the number of dimensions while retaining most of the information in the original data.\n",
        "\n",
        "PCA is a popular choice for dimensionality reduction because it is simple to implement, computationally efficient, and widely available in most data analysis software packages. Additionally, PCA has been extensively studied and has a strong theoretical foundation, making it a reliable and well-understood method."
      ]
    },
    {
      "cell_type": "markdown",
      "metadata": {
        "id": "vFOxstIqX0ze"
      },
      "source": [
        "## ***7. ML Model Implementation***"
      ]
    },
    {
      "cell_type": "markdown",
      "metadata": {
        "id": "_juKjgh6X0ze"
      },
      "source": [
        "### ML Model - 1 (K-Means Clustering)"
      ]
    },
    {
      "cell_type": "markdown",
      "metadata": {
        "id": "4vdwNOpgpsgb"
      },
      "source": [
        "K-means clustering is a type of unsupervised machine learning algorithm used for partitioning a dataset into K clusters based on similarity of data points. The goal of the algorithm is to minimize the sum of squared distances between each data point and its corresponding cluster centroid. It works iteratively by assigning each data point to its nearest centroid and then re-computing the centroid of each cluster based on the new assignments. The algorithm terminates when the cluster assignments no longer change or when a maximum number of iterations is reached.\n",
        "\n",
        "Let's just itterate over a loop of 1 to 16 clusters and try to find the optimal number of clusters with ELBOW method."
      ]
    },
    {
      "cell_type": "code",
      "execution_count": null,
      "metadata": {
        "id": "HcuaI5O_Vbsj"
      },
      "outputs": [],
      "source": [
        "## Determining optimal value of K using KElbowVisualizer\n",
        "# Importing needed library\n",
        "from sklearn.cluster import KMeans\n",
        "from yellowbrick.cluster import KElbowVisualizer\n",
        "\n",
        "# Instantiate the clustering model and visualizer\n",
        "model = KMeans(random_state=0)\n",
        "visualizer = KElbowVisualizer(model, k=(1,16),locate_elbow=False)\n",
        "\n",
        "# Fit the data to the visualizer\n",
        "visualizer.fit(x_transformed)\n",
        "\n",
        "# Finalize and render the figure\n",
        "visualizer.show()"
      ]
    },
    {
      "cell_type": "markdown",
      "metadata": {
        "id": "OhkN46C7qRQB"
      },
      "source": [
        "Here it seems that the elbow is forming at the 2 clusters but before blindly believing it let's plot one more chart that itterates over the same number of cluters and determines the Silhouette Score at every point.\n",
        "\n",
        "Okay, but what is **Silhouette Score**?\n",
        "\n",
        "The silhouette score is a measure of how similar an object is to its own cluster compared to other clusters. It is used to evaluate the quality of clustering, where a higher score indicates that objects are more similar to their own cluster and dissimilar to other clusters.\n",
        "\n",
        "The silhouette score ranges from -1 to 1, where a score of 1 indicates that the object is well-matched to its own cluster, and poorly-matched to neighboring clusters. Conversely, a score of -1 indicates that the object is poorly-matched to its own cluster, and well-matched to neighboring clusters."
      ]
    },
    {
      "cell_type": "code",
      "execution_count": null,
      "metadata": {
        "id": "JwIRgjxw6gsz"
      },
      "outputs": [],
      "source": [
        "## Determining optimal value of K using KElbowVisualizer\n",
        "# Importing needed library\n",
        "from sklearn.cluster import KMeans\n",
        "from yellowbrick.cluster import KElbowVisualizer\n",
        "\n",
        "# Instantiate the clustering model and visualizer\n",
        "visualizer = KElbowVisualizer(model, k=(2,16), metric='silhouette', timings=True, locate_elbow=False)\n",
        "\n",
        "# Fit the data to the visualizer\n",
        "visualizer.fit(x_transformed)\n",
        "\n",
        "# Finalize and render the figure\n",
        "visualizer.show()"
      ]
    },
    {
      "cell_type": "code",
      "execution_count": null,
      "metadata": {
        "id": "q4ikRQGPVBmy"
      },
      "outputs": [],
      "source": [
        "## Computing Silhouette score for each k\n",
        "# Importing needed libraries\n",
        "from sklearn.cluster import KMeans\n",
        "from sklearn.metrics import silhouette_score\n",
        "\n",
        "# Defining Range\n",
        "k_range = range(2, 7)\n",
        "for k in k_range:\n",
        "    Kmodel = KMeans(n_clusters=k)\n",
        "    labels = Kmodel.fit_predict(x_transformed)\n",
        "    score = silhouette_score(x, labels)\n",
        "    print(\"k=%d, Silhouette score=%f\" % (k, score))"
      ]
    },
    {
      "cell_type": "markdown",
      "metadata": {
        "id": "oAYjY4g7cYpz"
      },
      "source": [
        "From the above plots (Elbow plot and Sillhouette plot) it is very clear that the Silhoutte score is comparatively good for 4 number of clusters, so we will consider 4 cluster in kmeans analysis.\n",
        "\n",
        "Now let's plot and see how our data points look like after assigning to their respective clusters."
      ]
    },
    {
      "cell_type": "code",
      "execution_count": null,
      "metadata": {
        "id": "bfBZRGjHDqpK"
      },
      "outputs": [],
      "source": [
        "#training the K-means model on a dataset\n",
        "kmeans = KMeans(n_clusters=4, init='k-means++', random_state= 0)\n",
        "\n",
        "#predict the labels of clusters.\n",
        "plt.figure(figsize=(10,6), dpi=120)\n",
        "label = kmeans.fit_predict(x_transformed)\n",
        "#Getting unique labels\n",
        "unique_labels = np.unique(label)\n",
        "\n",
        "#plotting the results:\n",
        "for i in unique_labels:\n",
        "    plt.scatter(x_transformed[label == i , 0] , x_transformed[label == i , 1] , label = i)\n",
        "plt.legend()\n",
        "plt.show()"
      ]
    },
    {
      "cell_type": "markdown",
      "metadata": {
        "id": "ZW0140osspf9"
      },
      "source": [
        "We have 4 different clusters but unfortunately the above plot is in TWO-DIMENSIONAL. Let's plot the above figure in 3D using mplot3d library and see if we are getting the separated clusters."
      ]
    },
    {
      "cell_type": "code",
      "execution_count": null,
      "metadata": {
        "id": "bH3SpUrEgo-j"
      },
      "outputs": [],
      "source": [
        "# Importing library to visualize clusters in 3D\n",
        "from mpl_toolkits.mplot3d import Axes3D\n",
        "\n",
        "# Plot the clusters in 3D\n",
        "fig = plt.figure(figsize=(20,8))\n",
        "ax = fig.add_subplot(111, projection='3d')\n",
        "colors = ['r', 'g', 'b', 'y']\n",
        "for i in range(len(colors)):\n",
        "    ax.scatter(x_transformed[kmeans.labels_ == i, 2], x_transformed[kmeans.labels_ == i, 0], x_transformed[kmeans.labels_ == i, 1], c=colors[i])\n",
        "\n",
        "# Rotate the plot 30 degrees around the X axis and 45 degrees around the Z axis\n",
        "ax.view_init(elev=20, azim=-120)\n",
        "ax.set_xlabel('x-axis')\n",
        "ax.set_ylabel('y-axis')\n",
        "ax.set_zlabel('z-axis')\n",
        "plt.show()"
      ]
    },
    {
      "cell_type": "markdown",
      "metadata": {
        "id": "RZaDjN9ztvGS"
      },
      "source": [
        "Cool, we can easily differentiate the all 4 clusters with naked eye. Now let's assign the 'Conent' in their respective cluster by appending 1 more attribute in the final dataframe."
      ]
    },
    {
      "cell_type": "code",
      "execution_count": null,
      "metadata": {
        "id": "NmuJoQaft0q5"
      },
      "outputs": [],
      "source": [
        "# Add cluster values to the dateframe.\n",
        "netflix_df['kmeans_cluster'] = kmeans.labels_"
      ]
    },
    {
      "cell_type": "markdown",
      "metadata": {
        "id": "RvLo6ZrQX0zg"
      },
      "source": [
        "#### 1. Explain the ML Model used and it's performance"
      ]
    },
    {
      "cell_type": "markdown",
      "metadata": {
        "id": "2rtHkgBGuVOD"
      },
      "source": [
        "Starting with defining a function that plot a wordcloud for each of the attribute in the given dataframe."
      ]
    },
    {
      "cell_type": "code",
      "execution_count": null,
      "metadata": {
        "id": "g2iYIGGKvf8Y"
      },
      "outputs": [],
      "source": [
        "def kmeans_wordcloud(cluster_number, column_name):\n",
        "    '''function for Building a wordcloud for the movie/shows'''\n",
        "\n",
        "    #Importing libraries\n",
        "    from wordcloud import WordCloud, STOPWORDS\n",
        "\n",
        "    # Filter the data by the specified cluster number and column name\n",
        "    df_wordcloud = netflix_df[['kmeans_cluster', column_name]].dropna()\n",
        "    df_wordcloud = df_wordcloud[df_wordcloud['kmeans_cluster'] == cluster_number]\n",
        "    df_wordcloud = df_wordcloud[df_wordcloud[column_name].str.len() > 0]\n",
        "\n",
        "    # Combine all text documents into a single string\n",
        "    text = \" \".join(word for word in df_wordcloud[column_name])\n",
        "\n",
        "    # Create the word cloud\n",
        "    wordcloud = WordCloud(stopwords=set(STOPWORDS), background_color=\"black\").generate(text)\n",
        "\n",
        "    # Convert the wordcloud to a numpy array\n",
        "    image_array = wordcloud.to_array()\n",
        "\n",
        "    # Return the numpy array\n",
        "    return image_array"
      ]
    },
    {
      "cell_type": "code",
      "execution_count": null,
      "metadata": {
        "id": "-eLYJQCJwar0"
      },
      "outputs": [],
      "source": [
        "# Implementing the above defined function and plotting the wordcloud of each attribute\n",
        "fig, axs = plt.subplots(nrows=4, ncols=4, figsize=(20, 15))\n",
        "for i in range(4):\n",
        "    for j, col in enumerate(['description', 'listed_in', 'country', 'title']):\n",
        "        axs[j][i].imshow(kmeans_wordcloud(i, col))\n",
        "        axs[j][i].axis('off')\n",
        "        axs[j][i].set_title(f'Cluster {i}, {col}',fontsize=14, fontweight='bold')\n",
        "plt.tight_layout()\n",
        "plt.show()"
      ]
    },
    {
      "cell_type": "markdown",
      "metadata": {
        "id": "MHPOQ0msX0zh"
      },
      "source": [
        "### ML Model - 2 (Hierarchial Clustering)"
      ]
    },
    {
      "cell_type": "markdown",
      "metadata": {
        "id": "YylBp1UdwSw9"
      },
      "source": [
        "Hierarchical clustering is a type of clustering algorithm used for grouping similar data points together into clusters based on their similarity, by recursively merging or dividing clusters based on a measure of similarity or distance between them.\n",
        "\n",
        "Let's dive into it by plotting a Dendogram and then we will determine the optimal number of clusters."
      ]
    },
    {
      "cell_type": "code",
      "execution_count": null,
      "metadata": {
        "id": "GidLelWfAVHz"
      },
      "outputs": [],
      "source": [
        "#importing needed libraries\n",
        "from scipy.cluster.hierarchy import linkage, dendrogram\n",
        "\n",
        "# HIERARCHICAL CLUSTERING\n",
        "distances_linkage = linkage(x_transformed, method = 'ward', metric = 'euclidean')\n",
        "plt.figure(figsize=(25, 10))\n",
        "plt.title('Hierarchical Clustering Dendrogram')\n",
        "plt.xlabel('All films/TV shows')\n",
        "plt.ylabel('Euclidean Distance')\n",
        "\n",
        "dendrogram(distances_linkage, no_labels = True)\n",
        "plt.show()"
      ]
    },
    {
      "cell_type": "markdown",
      "metadata": {
        "id": "ANNeh1X-wyG6"
      },
      "source": [
        "Cool, but what is Dendogram and how to determine the **optimal value of clusters?**\n",
        "\n",
        "* A dendrogram is a tree-like diagram that records the sequences of merges or splits.More the distance of the vertical lines in the dendrogram, more the distance between those clusters.\n",
        "* From the above Dendogram we can say that optimal value of clusters is 2. But before assigning the vlaues to respective clusters, let's check the silhouette scores using Agglomerative clustering and follow the bottom up approach to aggregate the datapoints."
      ]
    },
    {
      "cell_type": "code",
      "execution_count": null,
      "metadata": {
        "id": "CE5AqsMKRhdK"
      },
      "outputs": [],
      "source": [
        "## Computing Silhouette score for each k\n",
        "# Importing needed libraries\n",
        "from sklearn.cluster import AgglomerativeClustering\n",
        "from sklearn.metrics import silhouette_score\n",
        "\n",
        "# Range selected from dendrogram above\n",
        "k_range = range(2, 10)\n",
        "for k in k_range:\n",
        "    model = AgglomerativeClustering(n_clusters=k)\n",
        "    labels = model.fit_predict(x_transformed)\n",
        "    score = silhouette_score(x, labels)\n",
        "    print(\"k=%d, Silhouette score=%f\" % (k, score))"
      ]
    },
    {
      "cell_type": "markdown",
      "metadata": {
        "id": "waoQ0oIx4d0L"
      },
      "source": [
        "From the above silhouette scores it is clear that the 2  clusters are optimal value (maximum Silhouette score), which is also clear from the above Dendogram that for 2 cluters the euclidean distances are maximum.\n",
        "\n",
        "Let's again plot the chart and observe the 2 different formed clusters."
      ]
    },
    {
      "cell_type": "code",
      "execution_count": null,
      "metadata": {
        "id": "80mR7gg76p5m"
      },
      "outputs": [],
      "source": [
        "#training the K-means model on a dataset\n",
        "Agmodel = AgglomerativeClustering(n_clusters = 2, affinity = 'euclidean', linkage = 'ward')\n",
        "\n",
        "#predict the labels of clusters.\n",
        "plt.figure(figsize=(10,6), dpi=120)\n",
        "label = Agmodel.fit_predict(x_transformed)\n",
        "#Getting unique labels\n",
        "unique_labels = np.unique(label)\n",
        "\n",
        "#plotting the results:\n",
        "for i in unique_labels:\n",
        "    plt.scatter(x_transformed[label == i , 0] , x_transformed[label == i , 1] , label = i)\n",
        "plt.legend()\n",
        "plt.show()"
      ]
    },
    {
      "cell_type": "markdown",
      "metadata": {
        "id": "J5sX7erCzJ22"
      },
      "source": [
        "Again plotting the 3 Dimensional plot to see the clusters clearly."
      ]
    },
    {
      "cell_type": "code",
      "execution_count": null,
      "metadata": {
        "id": "srPWp0eR7QJ5"
      },
      "outputs": [],
      "source": [
        "# Importing library to visualize clusters in 3D\n",
        "from mpl_toolkits.mplot3d import Axes3D\n",
        "\n",
        "# Plot the clusters in 3D\n",
        "fig = plt.figure(figsize=(20,8))\n",
        "ax = fig.add_subplot(111, projection='3d')\n",
        "colors = ['r', 'g', 'b', 'y']\n",
        "for i in range(len(colors)):\n",
        "    ax.scatter(x_transformed[Agmodel.labels_ == i, 0], x_transformed[Agmodel.labels_ == i, 1], x_transformed[Agmodel.labels_ == i, 2],c=colors[i])\n",
        "ax.set_xlabel('x-axis')\n",
        "ax.set_ylabel('y-axis')\n",
        "ax.set_zlabel('z-axis')\n",
        "plt.show()"
      ]
    },
    {
      "cell_type": "markdown",
      "metadata": {
        "id": "Cu-xdrOuzUV6"
      },
      "source": [
        "Cool, we can again easily differentiate the all 2 clusters with naked eye. Now let's assign the 'Content(Movies and TV Shows)' in their respective cluster by appending 1 more attribute in the final dataframe."
      ]
    },
    {
      "cell_type": "code",
      "execution_count": null,
      "metadata": {
        "id": "97Tnl_Dn5AkS"
      },
      "outputs": [],
      "source": [
        "# Add cluster values to the dateframe.\n",
        "netflix_df['agglomerative_cluster'] = Agmodel.labels_"
      ]
    },
    {
      "cell_type": "markdown",
      "metadata": {
        "id": "9xbRuY7MX0zj"
      },
      "source": [
        "#### 1. Explain the ML Model used and it's performance using Evaluation metric Score Chart."
      ]
    },
    {
      "cell_type": "markdown",
      "metadata": {
        "id": "crg45_NtzotI"
      },
      "source": [
        "Let's just again define a function that plots wordcloud for different attributes using Agglomerative Clustering."
      ]
    },
    {
      "cell_type": "code",
      "execution_count": null,
      "metadata": {
        "id": "6XGWfcVZF_gc"
      },
      "outputs": [],
      "source": [
        "def agglomerative_wordcloud(cluster_number, column_name):\n",
        "  '''function for Building a wordcloud for the movie/shows'''\n",
        "\n",
        "  #Importing libraries\n",
        "  from wordcloud import WordCloud, STOPWORDS\n",
        "\n",
        "  # Filter the data by the specified cluster number and column name\n",
        "  df_wordcloud = netflix_df[['agglomerative_cluster', column_name]].dropna()\n",
        "  df_wordcloud = df_wordcloud[df_wordcloud['agglomerative_cluster'] == cluster_number]\n",
        "\n",
        "  # Combine all text documents into a single string\n",
        "  text = \" \".join(word for word in df_wordcloud[column_name])\n",
        "\n",
        "  # Create the word cloud\n",
        "  wordcloud = WordCloud(stopwords=set(STOPWORDS), background_color=\"black\").generate(text)\n",
        "\n",
        "  # Return the word cloud object\n",
        "  return wordcloud"
      ]
    },
    {
      "cell_type": "code",
      "execution_count": null,
      "metadata": {
        "id": "3r1m8NwcGVX-"
      },
      "outputs": [],
      "source": [
        "# Implementing the above defined function and plotting the wordcloud of each attribute\n",
        "fig, axs = plt.subplots(nrows=4, ncols=2, figsize=(20, 15))\n",
        "for i in range(2):\n",
        "    for j, col in enumerate(['description', 'listed_in', 'country', 'title']):\n",
        "        axs[j][i].imshow(agglomerative_wordcloud(i, col))\n",
        "        axs[j][i].axis('off')\n",
        "        axs[j][i].set_title(f'Cluster {i}, {col}',fontsize=14, fontweight='bold')\n",
        "plt.tight_layout()\n",
        "plt.show()"
      ]
    },
    {
      "cell_type": "markdown",
      "metadata": {
        "id": "ed_3weGbX0zj"
      },
      "source": [
        "### ML Model - 3 (Building a Recommendaton System)"
      ]
    },
    {
      "cell_type": "markdown",
      "metadata": {
        "id": "KiqDmz8d05TV"
      },
      "source": [
        "We are using Cosine similarity as it is a measure of similarity between two non-zero vectors in a multidimensional space. It measures the cosine of the angle between the two vectors, which ranges from -1 (opposite direction) to 1 (same direction), with 0 indicating orthogonality (the vectors are perpendicular to each other).\n",
        "\n",
        "In this project we have used cosine similarity which is used to determine how similar two documents or pieces of text are. We represent the documents as vectors in a high-dimensional space, where each dimension represents a word or term in the corpus. We can then calculate the cosine similarity between the vectors to determine how similar the documents are based on their word usage.\n",
        "\n",
        "We are using cosine similarity over tf-idf because:\n",
        "\n",
        "* Cosine similarity handles high dimensional sparse data better.\n",
        "\n",
        "* Cosine similarity captures the meaning of the text better than tf-idf. For example, if two items contain similar words but in different orders, cosine similarity would still consider them similar, while tf-idf may not. This is because tf-idf only considers the frequency of words in a document and not their order or meaning."
      ]
    },
    {
      "cell_type": "code",
      "execution_count": null,
      "metadata": {
        "id": "_1tcN2TcLSM8"
      },
      "outputs": [],
      "source": [
        "# Importing neede libraries\n",
        "from sklearn.metrics.pairwise import cosine_similarity\n",
        "\n",
        "# Create a TF-IDF vectorizer object and transform the text data\n",
        "tfidf = TfidfVectorizer(stop_words='english')\n",
        "tfidf_matrix = tfidf.fit_transform(netflix_df['content_detail'])\n",
        "\n",
        "# Compute cosine similarity matrix\n",
        "cosine_sim = cosine_similarity(tfidf_matrix)\n",
        "\n",
        "def recommend_content(title, cosine_sim=cosine_sim, data=netflix_df):\n",
        "    # Get the index of the input title in the programme_list\n",
        "    programme_list = data['title'].to_list()\n",
        "    index = programme_list.index(title)\n",
        "\n",
        "    # Create a list of tuples containing the similarity score and index\n",
        "    # between the input title and all other programmes in the dataset\n",
        "    sim_scores = list(enumerate(cosine_sim[index]))\n",
        "\n",
        "    # Sort the list of tuples by similarity score in descending order\n",
        "    sim_scores = sorted(sim_scores, key=lambda x: x[1], reverse=True)[1:11]\n",
        "\n",
        "    # Get the recommended movie titles and their similarity scores\n",
        "    recommend_index = [i[0] for i in sim_scores]\n",
        "    rec_movie = data['title'].iloc[recommend_index]\n",
        "    rec_score = [round(i[1], 4) for i in sim_scores]\n",
        "\n",
        "    # Create a pandas DataFrame to display the recommendations\n",
        "    rec_table = pd.DataFrame(list(zip(rec_movie, rec_score)), columns=['Recommendation', 'Similarity_score(0-1)'])\n",
        "\n",
        "    return rec_table"
      ]
    },
    {
      "cell_type": "markdown",
      "metadata": {
        "id": "En0OyH9H1Yvc"
      },
      "source": [
        "Let's check how our recommender system is performing."
      ]
    },
    {
      "cell_type": "code",
      "execution_count": null,
      "metadata": {
        "id": "I4MShswqMZn_"
      },
      "outputs": [],
      "source": [
        "# Testing indian movie\n",
        "recommend_content('Zindagi Na Milegi Dobara')"
      ]
    },
    {
      "cell_type": "code",
      "execution_count": null,
      "metadata": {
        "id": "_bdR79kWNjoE"
      },
      "outputs": [],
      "source": [
        "# Testing non indian movie\n",
        "recommend_content('THE RUM DIARY')"
      ]
    },
    {
      "cell_type": "code",
      "execution_count": null,
      "metadata": {
        "id": "KglSacpDQf_o"
      },
      "outputs": [],
      "source": [
        "# Testing indian tv show\n",
        "recommend_content('Humsafar')"
      ]
    },
    {
      "cell_type": "code",
      "execution_count": null,
      "metadata": {
        "id": "H5Y8CbkvQQ9P"
      },
      "outputs": [],
      "source": [
        "# Testing non indian tv show\n",
        "recommend_content('The World Is Yours')"
      ]
    },
    {
      "cell_type": "markdown",
      "metadata": {
        "id": "H1Ptn3NbX0zk"
      },
      "source": [
        "### 1. Which Evaluation metrics did you consider for a positive business impact and why?"
      ]
    },
    {
      "cell_type": "markdown",
      "metadata": {
        "id": "aZUip9PyX0zl"
      },
      "source": [
        "We have chosen **Silhoutte Score** over **Distortion Score (also known as inertia or sum of squared distances)** as evaluation metrics as it measures how well each data point in a cluster is separated from other clusters. It ranges from -1 to 1, with higher values indicating better cluster separation. A silhouette score close to 1 indicates that the data point is well-matched to its own cluster and poorly matched to neighboring clusters. A score close to 0 indicates that the data point is on or very close to the boundary between two clusters. A score close to -1 indicates that the data point is probably assigned to the wrong cluster.\n",
        "\n",
        "The advantages of using silhouette score over distortion score are:\n",
        "\n",
        "* Silhouette score takes into account both the cohesion (how well data points within a cluster are similar) and separation (how well data points in different clusters are dissimilar) of the clusters, whereas distortion score only considers the compactness of each cluster.\n",
        "* **Silhouette score is less sensitive to the shape of the clusters**, while distortion score tends to favor spherical clusters, and in our case the clusters are not completely spherical.\n",
        "* Silhouette score provides more intuitive and interpretable results, as it assigns a score to each data point rather than just a single value for the entire clustering solution."
      ]
    },
    {
      "cell_type": "markdown",
      "metadata": {
        "id": "iBCn-7jgX0zl"
      },
      "source": [
        "### 2. Which ML model did you choose from the above created models as your final prediction model and why?"
      ]
    },
    {
      "cell_type": "markdown",
      "metadata": {
        "id": "4rm42KDyX0zl"
      },
      "source": [
        "We have considered **K-means** as our final model, as we are getting the comparatevely **high Silhoutte Score in K-means clustering** and the resulted clusters are very well seperated from each others as have saw in the 3 dimensions.\n",
        "\n",
        "Also in some of the situations K-means works more accurately then other clustering methods such as:\n",
        "* **Speed**: K-means is generally faster than hierarchical clustering, especially when dealing with large datasets, since it involves fewer calculations and iterations.\n",
        "\n",
        "* **Ease of use**: K-means is relatively straightforward to implement and interpret, as it requires only a few parameters (such as the number of clusters) and produces a clear partitioning of the data.\n",
        "\n",
        "* **Scalability**: K-means can easily handle datasets with a large number of variables or dimensions, whereas hierarchical clustering becomes computationally expensive as the number of data points and dimensions increase.\n",
        "\n",
        "* **Independence of clusters**: K-means produces non-overlapping clusters, whereas hierarchical clustering can produce overlapping clusters or clusters that are nested within each other, which may not be ideal for certain applications."
      ]
    },
    {
      "cell_type": "markdown",
      "source": [
        "## ***8.*** ***Future Work (Optional)***"
      ],
      "metadata": {
        "id": "xw9CLkhbewuh"
      }
    },
    {
      "cell_type": "markdown",
      "source": [
        "### 1. Save the best performing ml model in a pickle file or joblib file format for deployment process.\n"
      ],
      "metadata": {
        "id": "9hDpHnTUewui"
      }
    },
    {
      "cell_type": "code",
      "source": [
        "# Save the File\n",
        "import joblib\n",
        "\n",
        "# 'kmeans' is the best performing K-Means model\n",
        "# Save the model to a file using joblib\n",
        "joblib.dump(kmeans, 'kmeans_model.pkl')"
      ],
      "metadata": {
        "id": "HYF6ZuXwewuk"
      },
      "execution_count": null,
      "outputs": []
    },
    {
      "cell_type": "markdown",
      "source": [
        "### 2. Again Load the saved model file and try to predict unseen data for a sanity check.\n"
      ],
      "metadata": {
        "id": "8DiAVX0fewul"
      }
    },
    {
      "cell_type": "code",
      "source": [
        "# Load the File and predict unseen data.\n",
        "# Load the saved model\n",
        "loaded_kmeans_model = joblib.load('kmeans_model.pkl')"
      ],
      "metadata": {
        "id": "OK-qPe3qewum"
      },
      "execution_count": null,
      "outputs": []
    },
    {
      "cell_type": "markdown",
      "source": [
        "### ***Congrats! Your model is successfully created and ready for deployment on a live server for a real user interaction !!!***"
      ],
      "metadata": {
        "id": "ddrskEXzewun"
      }
    },
    {
      "cell_type": "markdown",
      "source": [
        "# **Conclusion**"
      ],
      "metadata": {
        "id": "QFJhYHeWewuo"
      }
    },
    {
      "cell_type": "markdown",
      "metadata": {
        "id": "DmCnVckqYDd4"
      },
      "source": [
        "### **Conclusions drawn from EDA**"
      ]
    },
    {
      "cell_type": "markdown",
      "source": [
        "In conclusion, the exploratory data analysis (EDA) of Netflix's TV shows and movies clustering has revealed a wealth of insights that shed light on the platform's content distribution, production trends, viewer preferences, and global impact. From the data, several key takeaways emerge:\n",
        "\n",
        "**Content Diversity and Global Reach:** Netflix's library showcases a rich diversity of content, with a focus on both TV shows and movies. The platform's international TV shows and the popularity of crime and kids' TV genres underscore the global audience's appetite for varied storytelling from different cultures and genres.\n",
        "\n",
        "**Production Trends:** Over the years, Netflix has experienced rapid growth in content production. The surge in TV shows and movies from 2016 to 2020 reflects the streaming industry's evolving landscape, with platforms like Netflix responding to the demand for original content.\n",
        "\n",
        "**Global Influences:** The dominance of the United States in content production highlights its historical and industrial strength, while the rise of Indian content underscores the influence of factors like growing middle-class populations, disposable incomes, and the popularity of streaming services.\n",
        "\n",
        "**Regional Success Stories:** The prominence of South Korean dramas in the TV show market demonstrates the power of the Korean Wave, while Canada's financial support for TV shows has attracted both domestic and foreign investment.\n",
        "\n",
        "**Viewer Engagement:** The popularity of Japanese voice actors, crime TV shows, kids' TV, British TV shows, and documentaries showcases viewers' diverse interests, from crime thrillers to educational content, across cultures and genres.\n",
        "\n",
        "**Quality and Collaboration:** The involvement of prolific directors and actors suggests Netflix's emphasis on quality and collaboration, both within and beyond traditional entertainment industries.\n",
        "\n",
        "In essence, the EDA illustrates Netflix's commitment to catering to a global audience by offering diverse, engaging, and high-quality content. The platform's strategic content production, collaborations with industry leaders, and focus on viewer preferences position it as a frontrunner in the evolving world of entertainment streaming."
      ],
      "metadata": {
        "id": "jrSNHhgod863"
      }
    },
    {
      "cell_type": "markdown",
      "metadata": {
        "id": "YjMsMDt7YhmK"
      },
      "source": [
        "### **Conclusions drawn from ML Model**"
      ]
    },
    {
      "cell_type": "markdown",
      "metadata": {
        "id": "ksC4Xy2sW2r_"
      },
      "source": [
        "* Implemented **K-Means Clustering and Agglomerative Hierarchical Clustering**, to cluster the Netflix Movies TV show dataset.\n",
        "* The optimal number of clusters we are getting from **K-means is 4**, whereas for **Agglomerative Hierarchical Clustering the optimal number of clusters are found out to be 2**.\n",
        "* We chose **Silhouette Score as the evaluation metric** over distortion score because it provides a more intuitive and interpretable result. Also Silhouette score is less sensitive to the shape of the clusters.\n",
        "* Built a **Recommendation system** that can help Netflix **improve user experience and reduce subscriber churn** by providing personalized recommendations to users based on their similarity scores."
      ]
    },
    {
      "cell_type": "markdown",
      "source": [
        "### ***Hurrah! You have successfully completed your Machine Learning Capstone Project !!!***"
      ],
      "metadata": {
        "id": "Tg67S-dTewut"
      }
    }
  ]
}